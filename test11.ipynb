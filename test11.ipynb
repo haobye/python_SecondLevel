{
 "cells": [
  {
   "cell_type": "code",
   "execution_count": null,
   "metadata": {},
   "outputs": [],
   "source": [
    "# 1.综合应用题\n",
    "# 文件ngchina.html保持了网页源代码，请将该页面中图片的URL提取出来,并输出所有图像的URL。"
   ]
  },
  {
   "cell_type": "code",
   "execution_count": 26,
   "metadata": {
    "collapsed": true
   },
   "outputs": [
    {
     "name": "stdout",
     "output_type": "stream",
     "text": [
      "第1个：http://image.ngchina.com.cn/2018/0829/20180829012548753.jpg\n",
      "第2个：http://image.ngchina.com.cn/2018/0823/thumb_469_352_20180823121155508.jpg\n",
      "第3个：http://image.ngchina.com.cn/2018/0820/thumb_469_352_20180820124025389.jpg\n",
      "第4个：http://image.ngchina.com.cn/2018/0817/thumb_469_352_20180817023715715.jpg\n",
      "第5个：http://image.ngchina.com.cn/2018/0815/thumb_469_352_20180815033214534.jpg\n",
      "第6个：http://image.ngchina.com.cn/2017/1024/20171024023609391.jpg\n",
      "第7个：http://image.ngchina.com.cn/2018/0824/thumb_469_352_20180824054325356.jpg\n",
      "第8个：http://image.ngchina.com.cn/2018/0823/thumb_469_352_20180823054126855.jpg\n",
      "第9个：http://image.ngchina.com.cn/2018/0717/thumb_469_352_20180717055303642.jpg\n",
      "第10个：http://image.ngchina.com.cn/2018/0716/thumb_469_352_20180716055214274.jpg\n",
      "第11个：http://image.ngchina.com.cn/2018/0828/20180828072324430.jpg\n",
      "第12个：http://image.ngchina.com.cn/2018/0827/thumb_469_352_20180827051015964.jpg\n",
      "第13个：http://image.ngchina.com.cn/2018/0822/thumb_469_352_20180822113723979.jpg\n",
      "第14个：http://image.ngchina.com.cn/2018/0821/thumb_469_352_20180821113019301.jpg\n",
      "第15个：http://image.ngchina.com.cn/2018/0806/thumb_469_352_20180806060842245.jpg\n",
      "第16个：http://image.ngchina.com.cn/2018/0811/20180811045554304.jpg\n",
      "第17个：http://image.ngchina.com.cn/2018/0808/thumb_469_352_20180808032430294.jpg\n",
      "第18个：http://image.ngchina.com.cn/2018/0803/thumb_469_352_20180803052047518.jpg\n",
      "第19个：http://image.ngchina.com.cn/2018/0727/thumb_469_352_20180727050234817.jpg\n",
      "第20个：http://image.ngchina.com.cn/2018/0725/thumb_469_352_20180725112210880.jpg\n",
      "第21个：http://image.ngchina.com.cn/2018/0821/20180821053803771.jpg\n",
      "第22个：http://image.ngchina.com.cn/2018/0815/thumb_469_352_20180815055521769.jpg\n",
      "第23个：http://image.ngchina.com.cn/2018/0813/thumb_469_352_20180813042604187.jpg\n",
      "第24个：http://image.ngchina.com.cn/2018/0809/thumb_469_352_20180809040808198.jpg\n",
      "第25个：http://image.ngchina.com.cn/2018/0807/thumb_469_352_20180807034730675.jpg\n",
      "第26个：http://image.ngchina.com.cn/2018/0828/20180828021708567.jpg\n",
      "第27个：http://image.ngchina.com.cn/2018/0816/thumb_469_352_20180816114720332.jpg\n",
      "第28个：http://image.ngchina.com.cn/2018/0815/thumb_469_352_20180815115409125.jpg\n",
      "第29个：http://image.ngchina.com.cn/2018/0813/thumb_469_352_20180813060842490.jpg\n",
      "第30个：http://image.ngchina.com.cn/2018/0809/thumb_469_352_20180809040639316.jpg\n",
      "第31个：http://image.ngchina.com.cn/2018/0829/20180829044309568.jpg\n",
      "第32个：http://image.ngchina.com.cn/2018/0827/thumb_469_352_20180827023404500.jpg\n",
      "第33个：http://image.ngchina.com.cn/2018/0814/thumb_469_352_20180814020138926.jpg\n",
      "第34个：http://image.ngchina.com.cn/2018/0802/thumb_469_352_20180802042751267.jpg\n",
      "第35个：http://image.ngchina.com.cn/2018/0726/thumb_469_352_20180726035327372.jpg\n",
      "第36个：http://image.ngchina.com.cn/2018/0829/20180829044309568.jpg\n",
      "第37个：http://image.ngchina.com.cn/2018/0419/20180419032912194.jpg\n",
      "第38个：http://image.ngchina.com.cn/2018/0824/20180824041843472.jpg\n",
      "第39个：http://image.ngchina.com.cn/2018/0815/20180815050907769.jpg\n",
      "第40个：http://image.ngchina.com.cn/2018/0517/20180517061316312.jpg\n",
      "第41个：http://image.nationalgeographic.com.cn/2018/0117/20180117040447998.jpg\n",
      "第42个：http://image.ngchina.com.cn/2018/0824/20180824055710518.jpg\n",
      "第43个：http://image.ngchina.com.cn/2018/0815/20180815051814444.jpg\n",
      "第44个：http://image.ngchina.com.cn/2018/0829/20180829045139975.jpg\n",
      "第45个：http://image.ngchina.com.cn/2018/0828/20180828054802822.jpg\n",
      "第46个：http://image.ngchina.com.cn/2018/0827/20180827062750339.jpg\n",
      "第47个：http://image.ngchina.com.cn/2018/0825/20180825024054758.jpg\n",
      "第48个：http://image.ngchina.com.cn/2018/0829/20180829024518609.jpg\n",
      "第49个：http://image.ngchina.com.cn/2018/0801/20180801080839678.jpg\n",
      "第50个：http://image.ngchina.com.cn/2018/0801/20180801080940920.jpg\n"
     ]
    }
   ],
   "source": [
    "import re\n",
    "def get_html():\n",
    "    fi = open(\"F:/二级考试python/05操作题/11/ngchina.html\", \"r\", encoding=\"utf-8\")\n",
    "    html = fi.readlines()\n",
    "    return html\n",
    "\n",
    "def change_html(html):\n",
    "    file = \"\".join(html)\n",
    "    return file\n",
    "\n",
    "def parse_html(html):\n",
    "    count = 0\n",
    "    pattern = re.compile(r'src=\"(.*?)\"')\n",
    "    urls = pattern.findall(html, re.S)\n",
    "    for url in urls:\n",
    "        if url.startswith(\"http://image\") and url.endswith(\".jpg\"):\n",
    "            count += 1\n",
    "            print(\"第{}个：{}\".format(count, url))\n",
    "\n",
    "def main():\n",
    "    html = get_html()\n",
    "    html = change_html(html)\n",
    "    parse_html(html)\n",
    "    \n",
    "main()"
   ]
  },
  {
   "cell_type": "code",
   "execution_count": 4,
   "metadata": {
    "collapsed": true
   },
   "outputs": [
    {
     "name": "stdout",
     "output_type": "stream",
     "text": [
      "第 1个URL:http://image.ngchina.com.cn/2018/0829/20180829012548753.jpg\n",
      "第 2个URL:http://image.ngchina.com.cn/2018/0823/thumb_469_352_20180823121155508.jpg\n",
      "第 3个URL:http://image.ngchina.com.cn/2018/0820/thumb_469_352_20180820124025389.jpg\n",
      "第 4个URL:http://image.ngchina.com.cn/2018/0817/thumb_469_352_20180817023715715.jpg\n",
      "第 5个URL:http://image.ngchina.com.cn/2018/0815/thumb_469_352_20180815033214534.jpg\n",
      "第 6个URL:http://image.ngchina.com.cn/2017/1024/20171024023609391.jpg\n",
      "第 7个URL:http://image.ngchina.com.cn/2018/0824/thumb_469_352_20180824054325356.jpg\n",
      "第 8个URL:http://image.ngchina.com.cn/2018/0823/thumb_469_352_20180823054126855.jpg\n",
      "第 9个URL:http://image.ngchina.com.cn/2018/0717/thumb_469_352_20180717055303642.jpg\n",
      "第10个URL:http://image.ngchina.com.cn/2018/0716/thumb_469_352_20180716055214274.jpg\n",
      "第11个URL:http://image.ngchina.com.cn/2018/0828/20180828072324430.jpg\n",
      "第12个URL:http://image.ngchina.com.cn/2018/0827/thumb_469_352_20180827051015964.jpg\n",
      "第13个URL:http://image.ngchina.com.cn/2018/0822/thumb_469_352_20180822113723979.jpg\n",
      "第14个URL:http://image.ngchina.com.cn/2018/0821/thumb_469_352_20180821113019301.jpg\n",
      "第15个URL:http://image.ngchina.com.cn/2018/0806/thumb_469_352_20180806060842245.jpg\n",
      "第16个URL:http://image.ngchina.com.cn/2018/0811/20180811045554304.jpg\n",
      "第17个URL:http://image.ngchina.com.cn/2018/0808/thumb_469_352_20180808032430294.jpg\n",
      "第18个URL:http://image.ngchina.com.cn/2018/0803/thumb_469_352_20180803052047518.jpg\n",
      "第19个URL:http://image.ngchina.com.cn/2018/0727/thumb_469_352_20180727050234817.jpg\n",
      "第20个URL:http://image.ngchina.com.cn/2018/0725/thumb_469_352_20180725112210880.jpg\n",
      "第21个URL:http://image.ngchina.com.cn/2018/0821/20180821053803771.jpg\n",
      "第22个URL:http://image.ngchina.com.cn/2018/0815/thumb_469_352_20180815055521769.jpg\n",
      "第23个URL:http://image.ngchina.com.cn/2018/0813/thumb_469_352_20180813042604187.jpg\n",
      "第24个URL:http://image.ngchina.com.cn/2018/0809/thumb_469_352_20180809040808198.jpg\n",
      "第25个URL:http://image.ngchina.com.cn/2018/0807/thumb_469_352_20180807034730675.jpg\n",
      "第26个URL:http://image.ngchina.com.cn/2018/0828/20180828021708567.jpg\n",
      "第27个URL:http://image.ngchina.com.cn/2018/0816/thumb_469_352_20180816114720332.jpg\n",
      "第28个URL:http://image.ngchina.com.cn/2018/0815/thumb_469_352_20180815115409125.jpg\n",
      "第29个URL:http://image.ngchina.com.cn/2018/0813/thumb_469_352_20180813060842490.jpg\n",
      "第30个URL:http://image.ngchina.com.cn/2018/0809/thumb_469_352_20180809040639316.jpg\n",
      "第31个URL:http://image.ngchina.com.cn/2018/0829/20180829044309568.jpg\n",
      "第32个URL:http://image.ngchina.com.cn/2018/0827/thumb_469_352_20180827023404500.jpg\n",
      "第33个URL:http://image.ngchina.com.cn/2018/0814/thumb_469_352_20180814020138926.jpg\n",
      "第34个URL:http://image.ngchina.com.cn/2018/0802/thumb_469_352_20180802042751267.jpg\n",
      "第35个URL:http://image.ngchina.com.cn/2018/0726/thumb_469_352_20180726035327372.jpg\n",
      "第36个URL:http://image.ngchina.com.cn/2018/0829/20180829044309568.jpg\n",
      "第37个URL:http://image.ngchina.com.cn/2018/0419/20180419032912194.jpg\n",
      "第38个URL:http://image.ngchina.com.cn/2018/0824/20180824041843472.jpg\n",
      "第39个URL:http://image.ngchina.com.cn/2018/0815/20180815050907769.jpg\n",
      "第40个URL:http://image.ngchina.com.cn/2018/0517/20180517061316312.jpg\n",
      "第41个URL:http://image.nationalgeographic.com.cn/2018/0117/20180117040447998.jpg\n",
      "第42个URL:http://image.ngchina.com.cn/2018/0824/20180824055710518.jpg\n",
      "第43个URL:http://image.ngchina.com.cn/2018/0815/20180815051814444.jpg\n",
      "第44个URL:http://image.ngchina.com.cn/2018/0829/20180829045139975.jpg\n",
      "第45个URL:http://image.ngchina.com.cn/2018/0828/20180828054802822.jpg\n",
      "第46个URL:http://image.ngchina.com.cn/2018/0827/20180827062750339.jpg\n",
      "第47个URL:http://image.ngchina.com.cn/2018/0826/20180826102726736.png\n",
      "第48个URL:http://image.ngchina.com.cn/2018/0825/20180825024054758.jpg\n",
      "第49个URL:http://image.ngchina.com.cn/2018/0829/20180829024518609.jpg\n",
      "第50个URL:http://image.ngchina.com.cn/2018/0801/20180801080839678.jpg\n",
      "第51个URL:http://image.ngchina.com.cn/2018/0801/20180801080940920.jpg\n"
     ]
    }
   ],
   "source": [
    "# #读取HTML文件内容\n",
    "# def getHTMLlines(htmlpath):\n",
    "#     f = open(htmlpath,\"r\",encoding = 'utf-8')\n",
    "#     ls = f.readlines()\n",
    "#     f.close()\n",
    "#     return ls\n",
    "# #用于解析文件并提取图像的URL\n",
    "# def extractImageUrls(htmllist):\n",
    "#     urls = []\n",
    "#     for line in htmllist:\n",
    "#         if 'img' in line:\n",
    "#             url = line.split('src=')[-1].split('\"')[1]\n",
    "#             if 'http' in url:\n",
    "#                 urls.append(url)\n",
    "#     return urls\n",
    "# #将获取的链接输出到屏幕上\n",
    "# def showResults(urls):\n",
    "#     count = 1\n",
    "#     for url in urls:\n",
    "#         print(\"第{:2}个URL:{}\".format(count,url))\n",
    "#         count += 1\n",
    "# # 主程序：1 读取文件；2 解析并提取其中的图片链接；3 输出提取结果到屏幕\n",
    "# def main():\n",
    "#     inputfile = \"F:/二级考试python/05操作题/11/ngchina.html\"\n",
    "#     htmllines = getHTMLlines(inputfile)\n",
    "#     imageUrls = extractImageUrls(htmllines)\n",
    "#     showResults(imageUrls)\n",
    "    \n",
    "# main()"
   ]
  },
  {
   "cell_type": "code",
   "execution_count": null,
   "metadata": {},
   "outputs": [],
   "source": [
    "# 2.从键盘输入一个整数，在屏幕上显示输出该整数Python语言十六进制、八进制、二进制表示形式。"
   ]
  },
  {
   "cell_type": "code",
   "execution_count": 36,
   "metadata": {},
   "outputs": [
    {
     "name": "stdout",
     "output_type": "stream",
     "text": [
      "请输入一个整数：10\n",
      "十六进制：a，八进制：12，二进制：1010\n"
     ]
    }
   ],
   "source": [
    "num = eval(input(\"请输入一个整数：\"))\n",
    "print(\"十六进制：{0:x}，八进制：{0:o}，二进制：{0:b}\".format(num))\n",
    "# hex,dec,oct,bin"
   ]
  },
  {
   "cell_type": "code",
   "execution_count": null,
   "metadata": {},
   "outputs": [],
   "source": [
    "# 3.输入字符串，使用中文分词库输出精确模式的中文分词结果。"
   ]
  },
  {
   "cell_type": "code",
   "execution_count": 37,
   "metadata": {},
   "outputs": [
    {
     "name": "stderr",
     "output_type": "stream",
     "text": [
      "Building prefix dict from the default dictionary ...\n",
      "Loading model from cache C:\\Users\\ADMINI~1\\AppData\\Local\\Temp\\jieba.cache\n",
      "Loading model cost 4.246 seconds.\n",
      "Prefix dict has been built succesfully.\n"
     ]
    },
    {
     "name": "stdout",
     "output_type": "stream",
     "text": [
      "['计算机程序', '只能', '解决', '计算', '问题', '，', '不能', '解决', '诸如', '“', '人类', '生命', '的', '意义', '”', '这样', '的', '非', '计算', '问题', '。']\n"
     ]
    }
   ],
   "source": [
    "import jieba\n",
    "string = \"计算机程序只能解决计算问题，不能解决诸如“人类生命的意义”这样的非计算问题。\"\n",
    "words = jieba.lcut(string)\n",
    "print(words)"
   ]
  },
  {
   "cell_type": "code",
   "execution_count": null,
   "metadata": {},
   "outputs": [],
   "source": [
    "# 4.某自然数除它本身之外的所有因子之和等于该数，则该数被称为完数。请输出1000以内的完数。"
   ]
  },
  {
   "cell_type": "code",
   "execution_count": 43,
   "metadata": {},
   "outputs": [
    {
     "name": "stdout",
     "output_type": "stream",
     "text": [
      "6\n",
      "28\n",
      "496\n"
     ]
    }
   ],
   "source": [
    "for i in range(1,1001):\n",
    "    total = 0\n",
    "    for k in range(1,i):\n",
    "        if i % k == 0:\n",
    "            total += k\n",
    "    if total == i:\n",
    "        print(i)"
   ]
  },
  {
   "cell_type": "code",
   "execution_count": 44,
   "metadata": {
    "collapsed": true
   },
   "outputs": [
    {
     "name": "stdout",
     "output_type": "stream",
     "text": [
      "6\n",
      "28\n",
      "496\n"
     ]
    }
   ],
   "source": [
    "# for i in range(2,1001):\n",
    "#     s = i\n",
    "#     for j in range(1,i):\n",
    "#         if i%j == 0:\n",
    "#             s -= j\n",
    "#     if s == 0:\n",
    "#         print(i)"
   ]
  },
  {
   "cell_type": "code",
   "execution_count": 45,
   "metadata": {},
   "outputs": [],
   "source": [
    "# 5.使用turtle库绘制类似斯洛克形状图案"
   ]
  },
  {
   "cell_type": "code",
   "execution_count": 11,
   "metadata": {},
   "outputs": [],
   "source": [
    "import turtle\n",
    "\n",
    "def init_turtle():\n",
    "    turtle.penup()\n",
    "    turtle.goto(-120,200)\n",
    "    turtle.pendown()\n",
    "\n",
    "def dropFull(r):\n",
    "    num = 6\n",
    "    while(num != 1):\n",
    "        for i in range(1,num):\n",
    "            turtle.circle(r)\n",
    "            turtle.penup()\n",
    "            turtle.fd(2*r)\n",
    "            turtle.pendown()\n",
    "        num -= 1\n",
    "        turtle.penup()\n",
    "        turtle.right(180)\n",
    "        turtle.fd((num-0.5)*2*r)\n",
    "        turtle.left(90)\n",
    "        turtle.fd(2*r)\n",
    "        turtle.left(90)\n",
    "        turtle.pendown()\n",
    "\n",
    "turtle.speed(4)\n",
    "init_turtle()\n",
    "dropFull(20)\n",
    "turtle.hideturtle()\n",
    "turtle.done()"
   ]
  },
  {
   "cell_type": "code",
   "execution_count": 3,
   "metadata": {},
   "outputs": [],
   "source": [
    "# import turtle\n",
    "# def drawCircle():\n",
    "#     turtle.pendown()\n",
    "#     turtle.circle(20)\n",
    "#     turtle.penup()\n",
    "#     turtle.fd(40)\n",
    "# def drawRowCircle(n):\n",
    "#     for j  in range(n,1,-1):\n",
    "#         for i in range(j):\n",
    "#             drawCircle()        \n",
    "#         turtle.fd(-j*40-20)\n",
    "#         turtle.right(90)\n",
    "#         turtle.fd(40)\n",
    "#         turtle.left(90)\n",
    "#         turtle.fd(40)\n",
    "#     drawCircle()\n",
    "    \n",
    "# drawRowCircle(5)\n",
    "# turtle.hideturtle()\n",
    "# turtle.done()"
   ]
  },
  {
   "cell_type": "code",
   "execution_count": null,
   "metadata": {},
   "outputs": [],
   "source": [
    "# 6.从键盘输入一些字符，逐个把它们写到指定的文件，直到输入一个@为止。"
   ]
  },
  {
   "cell_type": "code",
   "execution_count": 58,
   "metadata": {
    "collapsed": true
   },
   "outputs": [
    {
     "name": "stdout",
     "output_type": "stream",
     "text": [
      "请输入文件名：print.txt\n",
      "请输入字符串：\n",
      "print\n",
      "eval\n",
      "ok\n",
      "@ no show\n",
      "文件内容为：  print eval ok \n"
     ]
    }
   ],
   "source": [
    "name = input(\"请输入文件名：\")\n",
    "fi = open(\"F:/二级考试python/05操作题/11/\"+name, \"w\", encoding=\"utf-8\")\n",
    "text = \"\"\n",
    "print(\"请输入字符串：\")\n",
    "while(True):\n",
    "    content = input()\n",
    "    if \"@\" not in content:        \n",
    "        text += \" \"+content\n",
    "    else:\n",
    "        text += \" \"+content.split(\"@\")[0]\n",
    "        break\n",
    "fi.write(text)\n",
    "fi.close()\n",
    "print(\"文件内容为：\", text)"
   ]
  },
  {
   "cell_type": "code",
   "execution_count": null,
   "metadata": {},
   "outputs": [],
   "source": []
  }
 ],
 "metadata": {
  "kernelspec": {
   "display_name": "Python 3",
   "language": "python",
   "name": "python3"
  },
  "language_info": {
   "codemirror_mode": {
    "name": "ipython",
    "version": 3
   },
   "file_extension": ".py",
   "mimetype": "text/x-python",
   "name": "python",
   "nbconvert_exporter": "python",
   "pygments_lexer": "ipython3",
   "version": "3.6.5"
  }
 },
 "nbformat": 4,
 "nbformat_minor": 2
}
