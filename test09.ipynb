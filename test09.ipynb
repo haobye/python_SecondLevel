{
 "cells": [
  {
   "cell_type": "code",
   "execution_count": null,
   "metadata": {},
   "outputs": [],
   "source": [
    "# 1.从键盘输入一个整数和一个字符，以逗号隔开，在屏幕上显示输出一条信息。\n",
    "# 输入10,@\n",
    "# 输出@@@@@@@@@@ 10 @@@@@@@@@@"
   ]
  },
  {
   "cell_type": "code",
   "execution_count": null,
   "metadata": {},
   "outputs": [],
   "source": [
    "num,pattern = input(\"请输入：\").split(\",\")\n",
    "print(int(num)*pattern, num, int(num)*pattern)\n",
    "# print(eval(num))"
   ]
  },
  {
   "cell_type": "code",
   "execution_count": null,
   "metadata": {},
   "outputs": [],
   "source": [
    "# 2.从键盘输入一个由 1 和 0 组成的二进制字符串 s，转换为八进制数输出显示在屏幕上\n",
    "# 输入：1100\n",
    "# 输出：转换成八进制数是：14"
   ]
  },
  {
   "cell_type": "code",
   "execution_count": null,
   "metadata": {},
   "outputs": [],
   "source": [
    "num = input(\"请输入：\")\n",
    "res = 0\n",
    "while num:\n",
    "    res = res*2 + (ord(num[0]) - ord('0'))\n",
    "    num = num[1:]\n",
    "print(\"转换为八进制是:{:o}\".format(res))  \n",
    "print(\"   {}里面什么都不写则输出转换为十进制的数\")\n",
    "print(\"   写上 :o 则转换为八进制\")"
   ]
  },
  {
   "cell_type": "code",
   "execution_count": null,
   "metadata": {},
   "outputs": [],
   "source": [
    "# 3.文件 data.txt 文件中有多行数据，打开文件，读取数据，并将其转化为列表。\n",
    "# 统计读取的数据，计算每一行的总和、平均值，在屏幕上输出结果。\n",
    "# 文件内容示例：Chinese: 80,Math:85,English:92, Physical: 81,Art:85,Chemical:88\n",
    "# 屏幕输出结果示例：总和是：511.0，平均值是：85.17"
   ]
  },
  {
   "cell_type": "code",
   "execution_count": null,
   "metadata": {
    "scrolled": true
   },
   "outputs": [],
   "source": [
    "with open(\"F:/二级考试python/05操作题/9/data.txt\", \"r\", encoding=\"utf-8\") as f:\n",
    "    file = f.readlines()\n",
    "    \n",
    "info_list = [line.split(\",\") for line in file]\n",
    "for info in info_list:\n",
    "    peace = 0\n",
    "    item = [item.split(\":\") for item in info]\n",
    "    for one in item:\n",
    "        peace += eval(one[1])\n",
    "    print(\"总和是:{}\".format(peace))\n",
    "    print(\"平均值和:%.2f \\n\" % (peace/len(info)))"
   ]
  },
  {
   "cell_type": "code",
   "execution_count": null,
   "metadata": {},
   "outputs": [],
   "source": [
    "# 4.使用 turtle 库的 turtle.circle() 函数和 turtle.seth() 函数绘制同心圆套圈，\n",
    "# 最小的圆圈半径为 10 像素，不同圆圈之间的半径差是 40 像素"
   ]
  },
  {
   "cell_type": "code",
   "execution_count": null,
   "metadata": {},
   "outputs": [],
   "source": [
    "import turtle\n",
    "r = 10\n",
    "px = 40\n",
    "for i in range(4):\n",
    "    # 开始画\n",
    "    turtle.pendown()\n",
    "    # 画个圆\n",
    "    turtle.circle(r)\n",
    "    # 增加圆的半径\n",
    "    r += px\n",
    "    # 拿起画笔\n",
    "    turtle.penup()\n",
    "    # 将箭头向下指\n",
    "    turtle.seth(-90)\n",
    "    # 挪40px\n",
    "    turtle.fd(px)\n",
    "    # 调箭头指向右边\n",
    "    turtle.seth(0)\n",
    "turtle.done()"
   ]
  },
  {
   "cell_type": "code",
   "execution_count": null,
   "metadata": {},
   "outputs": [],
   "source": [
    "5.问题1：（8分）用 jieba 分词，计算字符串 s 中的中文词汇个数，不包括中文标点符号。\n",
    "显示输出分词后的结果，用”/ ”分隔，以及中文词汇个数。示例如下：\n",
    "输入：工业互联网”实施的方式是通过通信、控制和计算技术的交叉应用，建造一个信息物理系统，促进物理系统和数字系统的融合。\n",
    "输出：工业/ 互联网/实施/ 的/ 方式/是/ 通过/ 通信/控制/ 和/ 计算技术/的/ 交叉/ 应用/建造/ 一个/ 信息/物理/ 系统/ 促进/物理/ 系统/ 和/数字/ 系统/ 的/融合/\n",
    "中文词语数是：27"
   ]
  },
  {
   "cell_type": "code",
   "execution_count": null,
   "metadata": {},
   "outputs": [],
   "source": [
    "import jieba\n",
    "s = input(\"请输入：\")\n",
    "s = s.replace(\"，\",\"\").replace(\"。\",\"\").replace(\"、\",\"\").replace(\"“\",\"\").replace(\"”\",\"\")\n",
    "word = jieba.lcut(s)\n",
    "print(\"/\".join(word))\n",
    "print(\"中文词语数是：{}\".format(len(word)))"
   ]
  },
  {
   "cell_type": "code",
   "execution_count": null,
   "metadata": {},
   "outputs": [],
   "source": [
    "# 6.问题2：（7分）在问题1的基础上，统计分词后的词汇出现的次数，用字典结构保存。\n",
    "# 显示输出每个词汇出现的次数，以及出现次数最多的词汇。如果有多个词汇出现次数一样多，\n",
    "# 都要显示出来。示例如下：\n",
    "# 继续输出：\n",
    "# 控制: 1\n",
    "# 物理: 2\n",
    "# 通信: 1\n",
    "# ……\n",
    "# 出现最多的词是（的 系统）：3 次"
   ]
  },
  {
   "cell_type": "code",
   "execution_count": null,
   "metadata": {},
   "outputs": [],
   "source": [
    "import jieba \n",
    "s = '工业互联网”实施的方式是通过通信、控制和计算技术的交叉应用，建造一个信息物理系统，促进物理系统和数字系统的融合。'\n",
    "# s = input(\"请输入：\")\n",
    "s = s.replace(\"，\",\"\").replace(\"。\",\"\").replace(\"、\",\"\").replace(\"“\",\"\").replace(\"”\",\"\")\n",
    "dic = {}\n",
    "maxn = 0\n",
    "maxw = ''\n",
    "words = jieba.lcut(s)\n",
    "for word in words:\n",
    "    dic[word] = dic.get(word,0)+1\n",
    "for k in dic:\n",
    "    print(\"{}:{}\".format(k, dic.get(k)))\n",
    "#     print(\"{}:{}\".format(k, dic[k]))\n",
    "for k in dic:\n",
    "    if dic[k] > maxn:\n",
    "        maxw = k\n",
    "        maxn = dic[k]\n",
    "    elif dic[k] == maxn:\n",
    "        maxw += \" \" + k\n",
    "print(\"出现最多的词是“{}”:{}次\".format(maxw,maxn))"
   ]
  },
  {
   "cell_type": "code",
   "execution_count": null,
   "metadata": {},
   "outputs": [],
   "source": [
    "# 一个人脸识别研究小组对若干名学生做了人脸识别的测试，将测试结果与被测试者的现场照片组合成文件名，写到了一个文件 dir_100.txt 中，每行是一个文件名的信息，示例如下：\n",
    "# ['1709020621', '0']_116.jpg\n",
    "# ['1709020621']_115.jpg\n",
    "# ['1770603107', '1770603105', '0', '0']_1273.jpg\n",
    "# 文件名各部分含义如下：\n",
    "# [‘识别出学号1’，‘ 识别出学号2’,…,‘0表示检测到人脸但未识别出人’]_照片的顺序编号.jpg\n",
    "# 测试过程中，一个学生可能被抓拍到多张照片中，所以会在多个文件名中被识别，学号出现在多个文件名中；一张照片中，可能有多个人脸，但有些分辨率不够而识别不出来，文件名位置用‘0’代替学号。\n",
    "# 使用字典和列表型变量进行数据分析，最终获取实际参加测试的学生人数和人均被测次数。"
   ]
  },
  {
   "cell_type": "code",
   "execution_count": null,
   "metadata": {},
   "outputs": [],
   "source": [
    "# 7.（1）读入 dir_300.txt 文件的内容，处理每一行文件名信息。将文件名中的学号内容以\n",
    "# 列表形式保存，丢掉‘0’的字串；照片的顺序编号作为字典的关键字，学号列表作为字典的值。\n",
    "# 转换后，显示字典中的每行信息，示例如下：\n",
    "# 116:1709020621\n",
    "# 115:1709020621\n",
    "# 1273: 1770603107,1770603105"
   ]
  },
  {
   "cell_type": "code",
   "execution_count": 117,
   "metadata": {},
   "outputs": [
    {
     "name": "stdout",
     "output_type": "stream",
     "text": [
      "1341 : 1709020220\n",
      "1342 : 1709020220\n",
      "914 : 1709020223\n",
      "915 : 1709020223\n",
      "916 : 1709020223\n",
      "445 : 1709020224\n",
      "441 : 1709020224\n",
      "443 : 1709020224\n",
      "444 : 1709020224\n",
      "442 : 1709020224\n",
      "1368 : 1709020226\n",
      "1629 : 1709020227\n",
      "1631 : 1709020227\n",
      "1387 : 1709020228\n",
      "1388 : 1709020228\n",
      "700 : 1709020229\n",
      "701 : 1709020229\n",
      "259 : 1709020230,1707030416\n",
      "257 : 1709020230,1707030416\n",
      "258 : 1709020230,1707030416\n",
      "1560 : 1709020231\n",
      "452 : 1709020232\n",
      "1381 : 1709020301\n",
      "1380 : 1709020301\n",
      "1220 : 1709020302\n",
      "1219 : 1709020302\n",
      "586 : 1709020303\n",
      "590 : 1709020303\n",
      "580 : 1709020303\n",
      "585 : 1709020303\n",
      "588 : 1709020303\n",
      "589 : 1709020303\n",
      "595 : 1709020303\n",
      "583 : 1709020303\n",
      "584 : 1709020303\n",
      "592 : 1709020303\n",
      "1147 : 1709020305\n",
      "1148 : 1709020305\n",
      "1180 : 1709020306\n",
      "1179 : 1709020306\n",
      "153 : 1709020307\n",
      "1080 : 1709020308\n",
      "1081 : 1709020308\n",
      "1082 : 1709020308\n",
      "556 : 1709020309\n",
      "292 : 1709020311,1707030431\n",
      "293 : 1709020311\n",
      "678 : 1709020314\n",
      "679 : 1709020314\n",
      "677 : 1709020314\n"
     ]
    }
   ],
   "source": [
    "with open(\"F:/二级考试python/05操作题/9/dir_50.txt\",\"r\",encoding=\"utf-8\") as f:\n",
    "    file = f.readlines()\n",
    "\n",
    "dic = {}\n",
    "for line in file:\n",
    "    key = line.split(\"_\")[1].split(\".\")[0]\n",
    "    value = line.split(\"_\")[0].replace(\" '0'\",\"\").replace(\"['\",\"\").replace(\"]\",\"\").replace(\",\",\"\").replace(\"' '\",\",\").replace(\"'\",\"\")\n",
    "    dic[key] = value\n",
    "for k in dic:\n",
    "    print(k,\":\",dic[k])"
   ]
  },
  {
   "cell_type": "code",
   "execution_count": null,
   "metadata": {},
   "outputs": [],
   "source": [
    "# 8.（2）将该字典中的学号提取出来，构造另一个字典，以学号作为字典的关键字，累计学号出现\n",
    "# 的次数，将累计值作为字典的值。格式示例如下：\n",
    "# 1709020621:3\n",
    "# 1770603107:1\n",
    "# 1770603105:1"
   ]
  },
  {
   "cell_type": "code",
   "execution_count": 118,
   "metadata": {},
   "outputs": [
    {
     "name": "stdout",
     "output_type": "stream",
     "text": [
      "1709020220 : 2\n",
      "1709020223 : 3\n",
      "1709020224 : 5\n",
      "1709020226 : 1\n",
      "1709020227 : 2\n",
      "1709020228 : 2\n",
      "1709020229 : 2\n",
      "1709020230 : 3\n",
      "1707030416 : 3\n",
      "1709020231 : 1\n",
      "1709020232 : 1\n",
      "1709020301 : 2\n",
      "1709020302 : 2\n",
      "1709020303 : 10\n",
      "1709020305 : 2\n",
      "1709020306 : 2\n",
      "1709020307 : 1\n",
      "1709020308 : 3\n",
      "1709020309 : 1\n",
      "1709020311 : 2\n",
      "1707030431 : 1\n",
      "1709020314 : 3\n"
     ]
    }
   ],
   "source": [
    "list2 = []\n",
    "dic2 = {}\n",
    "for k in dic:\n",
    "    value = dic[k]\n",
    "    res = value.split(\",\")\n",
    "    for word in res:  \n",
    "        list2.append(word)\n",
    "        \n",
    "for value in list2:\n",
    "    dic2[value] = dic2.get(value,0)+1\n",
    "\n",
    "for key in dic2:\n",
    "    print(key,\":\",dic2[key])"
   ]
  },
  {
   "cell_type": "code",
   "execution_count": null,
   "metadata": {},
   "outputs": [],
   "source": [
    "9.（3）累计字典中关键字的个数，即为实际参加测试的学生人数；\n",
    "累加每个关键字对应的值，即为所有学号测试次数；\n",
    "与实际测试人数之比，即为人均被测次数。\n",
    "\n",
    "将实际参加测试人数和人均被测次数显示输出在屏幕上，示例如下：\n",
    "实际参加测试的人数是：1024\n",
    "人均被测次数是：2.7"
   ]
  },
  {
   "cell_type": "code",
   "execution_count": 129,
   "metadata": {},
   "outputs": [
    {
     "name": "stdout",
     "output_type": "stream",
     "text": [
      "实际参加测试的学生人数22,所有学号测试次数54\n",
      "人均被测次数0.41\n"
     ]
    }
   ],
   "source": [
    "# num = dic2.items()\n",
    "# print(num)\n",
    "# print(len(num))  \n",
    "per_num = 0     # 实际参加测试的学生人数    \n",
    "id_num = 0     # 所有学号测试次数\n",
    "avg_num = 0   # 与实际测试人数之比，即为人均被测次数\n",
    "\n",
    "for key in dic2:\n",
    "    per_num += 1\n",
    "    value = dic2[key]\n",
    "    id_num += value\n",
    "\n",
    "print(\"实际参加测试的学生人数{},所有学号测试次数{}\".format(per_num,id_num))\n",
    "print(\"人均被测次数%.2f\" % (per_num/id_num))"
   ]
  },
  {
   "cell_type": "code",
   "execution_count": null,
   "metadata": {},
   "outputs": [],
   "source": []
  }
 ],
 "metadata": {
  "kernelspec": {
   "display_name": "Python 3",
   "language": "python",
   "name": "python3"
  },
  "language_info": {
   "codemirror_mode": {
    "name": "ipython",
    "version": 3
   },
   "file_extension": ".py",
   "mimetype": "text/x-python",
   "name": "python",
   "nbconvert_exporter": "python",
   "pygments_lexer": "ipython3",
   "version": "3.6.5"
  }
 },
 "nbformat": 4,
 "nbformat_minor": 2
}
