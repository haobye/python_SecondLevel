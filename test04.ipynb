{
 "cells": [
  {
   "cell_type": "code",
   "execution_count": 1,
   "metadata": {},
   "outputs": [],
   "source": [
    "# 1.根据输入正整数n，作为财务数据，输出一个宽度为 20 字符，n 右对齐显示，带千位分隔符的效果，使用减号字符“-”填充。\n",
    "# 如果输入正整数超过 20 位，则按照真实长度输出。"
   ]
  },
  {
   "cell_type": "code",
   "execution_count": 19,
   "metadata": {},
   "outputs": [
    {
     "name": "stdout",
     "output_type": "stream",
     "text": [
      "234567890\n",
      "---------234,567,890\n"
     ]
    }
   ],
   "source": [
    "n = input()\n",
    "print(\"{:->20,}\".format(eval(n)))"
   ]
  },
  {
   "cell_type": "code",
   "execution_count": null,
   "metadata": {},
   "outputs": [],
   "source": [
    "# 2.PyInstaller 库可以对程序打包，给定一个 Python 源程序文件 a.py，图标文件为 a.ico，将其打包为在 Windows 平台上带有上述图标的\n",
    "# 单一可执行文件，使用什么样的命令？"
   ]
  },
  {
   "cell_type": "code",
   "execution_count": null,
   "metadata": {},
   "outputs": [],
   "source": [
    "pyinstaller -i a.ico -F a.py"
   ]
  },
  {
   "cell_type": "code",
   "execution_count": 2,
   "metadata": {},
   "outputs": [],
   "source": [
    "# 3.以 123 为随机数种子，随机生成 10 个在 1 到 999（含）之间的随机数，以逗号分隔，打印输出，请补充横线处代码。"
   ]
  },
  {
   "cell_type": "code",
   "execution_count": 1,
   "metadata": {},
   "outputs": [
    {
     "name": "stdout",
     "output_type": "stream",
     "text": [
      "54,275,90,788,418,273,111,859,923,896,"
     ]
    }
   ],
   "source": [
    "import random\n",
    "random.seed(123)\n",
    "for i in range(10):\n",
    "    print(random.randint(1,999), end=\",\")"
   ]
  },
  {
   "cell_type": "code",
   "execution_count": null,
   "metadata": {},
   "outputs": [],
   "source": [
    "# 4.使用 turtle 库的 turtle.right() 函数和 turtle.fd() 函数绘制一个菱形四边形，边长为 200 像素，效果如下图所示。\n",
    "# 请勿修改已经给出的第一行代码，并完善程序。"
   ]
  },
  {
   "cell_type": "code",
   "execution_count": 1,
   "metadata": {},
   "outputs": [],
   "source": [
    "# import turtle as t\n",
    "# t.right(-30)\n",
    "# t.fd(200)\n",
    "# t.right(60)\n",
    "# t.fd(200)\n",
    "# t.right(120)\n",
    "# t.fd(200)\n",
    "# t.right(60)\n",
    "# t.fd(200)\n",
    "# t.right(120)    # 这个有没有不影响，所以下面的两个循环可以\n",
    "import turtle as t\n",
    "t.right(-30)\n",
    "for i in range(1,3):\n",
    "    t.fd(200)\n",
    "    t.right(60*i)\n",
    "for i in range(1,3):\n",
    "    t.fd(200)\n",
    "    t.right(60*i)    "
   ]
  },
  {
   "cell_type": "code",
   "execution_count": null,
   "metadata": {},
   "outputs": [],
   "source": [
    "# 5.补充完善如下代码，使得程序能够计算 a 中各元素与 b 逐项乘积的累加和。"
   ]
  },
  {
   "cell_type": "code",
   "execution_count": 2,
   "metadata": {},
   "outputs": [
    {
     "name": "stdout",
     "output_type": "stream",
     "text": [
      "3\n",
      "15\n",
      "42\n",
      "54\n",
      "84\n",
      "138\n",
      "159\n",
      "207\n",
      "288\n"
     ]
    }
   ],
   "source": [
    "a = [[1,2,3], [4,5,6], [7,8,9]]\n",
    "b = [3,6,9]\n",
    "s = 0\n",
    "for c in a:\n",
    "    for j in range(len(c)):\n",
    "        s += c[j]*b[j]\n",
    "        print(s)"
   ]
  },
  {
   "cell_type": "code",
   "execution_count": null,
   "metadata": {},
   "outputs": [],
   "source": [
    "# 6.《命运》和《寻梦》都是著名科幻作家倪匡的科幻作品。文件名为“命运-网络版.txt”和“寻梦-网络版.txt”。"
   ]
  },
  {
   "cell_type": "code",
   "execution_count": 3,
   "metadata": {},
   "outputs": [],
   "source": [
    "# 问题1：请编写程序，对这两个文本中出现的字符进行统计，字符与出现次数之间用冒号:分隔，将两个文件前 100 个最常用字符分别输出保存\n",
    "# 到“命运-字符统计.txt”和“寻梦-字符统计.txt”文件中，该文件要求采用 CSV 格式存储，参考格式如下（注意，不统计回车字符）：\n",
    "# 命:90, 运:80, 寻:70, 梦:60"
   ]
  },
  {
   "cell_type": "code",
   "execution_count": 41,
   "metadata": {},
   "outputs": [],
   "source": [
    "with open(\"H:/二级/05操作题/4/寻梦-网络版.txt\", \"r\", encoding=\"utf-8\") as f:\n",
    "    file = f.read()\n",
    "\n",
    "dic = {}\n",
    "for word in file:\n",
    "    if word != \"\\n\" and word != \" \" and word != \"　\":\n",
    "        dic[word] = dic.get(word, 0) + 1\n",
    "        \n",
    "dic = sorted(dic.items(), key=lambda k: k[1], reverse=True)[0:100]\n",
    "lis = [\"{}:{}\".format(block[0], block[1]) for block in dic]    \n",
    "\n",
    "with open(\"H:/二级/05操作题/4/寻梦-字符统计.txt\", \"w\", encoding=\"utf-8\") as f:\n",
    "    f.write(\",\".join(lis))"
   ]
  },
  {
   "cell_type": "code",
   "execution_count": null,
   "metadata": {},
   "outputs": [],
   "source": [
    "# 问题2：请编写程序，对“命运-字符统计.txt”和“寻梦-字符统计.txt”中出现的相同字符打印输出。“相同字符.txt”文件中，字符间使用逗号分隔。"
   ]
  },
  {
   "cell_type": "code",
   "execution_count": 57,
   "metadata": {},
   "outputs": [
    {
     "name": "stdout",
     "output_type": "stream",
     "text": [
      "['，', '的', '\"', '一', '我', '了', '。', '是', '不', '有', '他', '来', '在', '这', '那', '然', '人', '道', '个', '可', '到', '就', '么', '上', '说', '以', '们', '之', '也', '看', '事', '生', '你', '出', '去', '知', '会', '想', '下', '样', '和', '小', '大', '时', '没', '自', '起', '得', '地', '过', '中', '子', '又', '情', '声', '分', '好', '要', '只', '所', '白', '她', '而', '话', '点', '发', '种', '为', '对', '手']\n"
     ]
    }
   ],
   "source": [
    "def get_dic(name):\n",
    "    with open(\"H:/二级/05操作题/4/\"+name+\"-字符统计.txt\", \"r\", encoding=\"utf-8\") as f:\n",
    "        file = f.read().split(\",\")\n",
    "    for i in range(len(file)):\n",
    "        file[i] = file[i].split(\":\")[0]\n",
    "    return file\n",
    "    \n",
    "def common():\n",
    "    list1 = get_dic(\"命运\")\n",
    "    list2 = get_dic(\"寻梦\")\n",
    "    list3 = []\n",
    "    for word in list1:\n",
    "        if word in list2:\n",
    "            list3.append(word)\n",
    "    print(list3)\n",
    "    with open(\"H:/二级/05操作题/4/相同字符.txt\", \"w\", encoding=\"utf-8\") as f:\n",
    "        f.write(\",\".join(list3))\n",
    "    \n",
    "common()"
   ]
  },
  {
   "cell_type": "code",
   "execution_count": null,
   "metadata": {},
   "outputs": [],
   "source": []
  }
 ],
 "metadata": {
  "kernelspec": {
   "display_name": "Python 3",
   "language": "python",
   "name": "python3"
  },
  "language_info": {
   "codemirror_mode": {
    "name": "ipython",
    "version": 3
   },
   "file_extension": ".py",
   "mimetype": "text/x-python",
   "name": "python",
   "nbconvert_exporter": "python",
   "pygments_lexer": "ipython3",
   "version": "3.7.0"
  }
 },
 "nbformat": 4,
 "nbformat_minor": 2
}
