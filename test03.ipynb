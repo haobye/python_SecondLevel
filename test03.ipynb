{
 "cells": [
  {
   "cell_type": "code",
   "execution_count": null,
   "metadata": {},
   "outputs": [],
   "source": [
    "# 操作题3"
   ]
  },
  {
   "cell_type": "code",
   "execution_count": null,
   "metadata": {},
   "outputs": [],
   "source": [
    "# 1.根据输入字符串 s，输出一个宽度为 15 字符，字符串 s 居中显示，以“=”填充的格式。如果输入字符串超过 15 个字符，则输出字符串前 15 个字符。"
   ]
  },
  {
   "cell_type": "code",
   "execution_count": 3,
   "metadata": {},
   "outputs": [
    {
     "name": "stdout",
     "output_type": "stream",
     "text": [
      "jks\n",
      "======jks======\n"
     ]
    }
   ],
   "source": [
    "s = input()\n",
    "print(\"{:=^15}\".format(s[0:15]))"
   ]
  },
  {
   "cell_type": "code",
   "execution_count": null,
   "metadata": {},
   "outputs": [],
   "source": [
    "# 2.根据斐波那契数列的定义，F(0)=0，F(1)=1, F(n)=F(n–1)+F(n–2)(n≥2)，输出不大于 100 的序列元素\n",
    "\n",
    "# 2 = 1 + 0\n",
    "# 3 = 1 + 1\n",
    "# 4   2   1  "
   ]
  },
  {
   "cell_type": "code",
   "execution_count": 4,
   "metadata": {},
   "outputs": [
    {
     "name": "stdout",
     "output_type": "stream",
     "text": [
      "0,1,1,2,3,5,8,13,21,34,55,89,"
     ]
    }
   ],
   "source": [
    "a,b = 0, 1\n",
    "while a <= 100:\n",
    "    print(a, end = \",\")\n",
    "    a, b = b, a+b"
   ]
  },
  {
   "cell_type": "code",
   "execution_count": 5,
   "metadata": {},
   "outputs": [],
   "source": [
    "# 3.如下是一个完整程序，根据提示代码完成如下任务，输出如“2020年10月10日10时10分10秒”样式的时间信息。"
   ]
  },
  {
   "cell_type": "code",
   "execution_count": 38,
   "metadata": {},
   "outputs": [
    {
     "name": "stdout",
     "output_type": "stream",
     "text": [
      "2020年10月10日10时10分10秒\n"
     ]
    }
   ],
   "source": [
    "import locale\n",
    "import time\n",
    "locale.setlocale(locale.LC_CTYPE, 'chinese')\n",
    "timestr = \"2020-10-10 10:10:10\"\n",
    "t = time.strptime(timestr, \"%Y-%m-%d %H:%M:%S\")\n",
    "print(time.strftime(\"%Y年%m月%d日%H时%M分%S秒\", t))"
   ]
  },
  {
   "cell_type": "code",
   "execution_count": 37,
   "metadata": {},
   "outputs": [
    {
     "name": "stdout",
     "output_type": "stream",
     "text": [
      "2019年10月19日15时31分00秒\n"
     ]
    }
   ],
   "source": [
    "import time\n",
    "timestr = \"2020-10-10 10:10:10\"\n",
    "t = time.strptime(timestr, \"%Y-%m-%d %H:%M:%S\")\n",
    "# print(time.strftime(u\"%Y年%m月%d日%H时%M分%S秒\", t))\n",
    "# 上面这行应为格式化时含有中文所以报错\n",
    "print(time.strftime('%Y{y}%m{m}%d{d}%H{H}%M{M}%S{S}').format(y='年',m='月',d='日',H='时',M='分',S='秒'))"
   ]
  },
  {
   "cell_type": "code",
   "execution_count": 39,
   "metadata": {},
   "outputs": [],
   "source": [
    "# 4.使用 turtle 库的 turtle.fd() 函数和 turtle.seth() 函数绘制一个等边三角形，边长为 200 像素"
   ]
  },
  {
   "cell_type": "code",
   "execution_count": 1,
   "metadata": {},
   "outputs": [],
   "source": [
    "import turtle as t\n",
    "for i in range(3):\n",
    "    t.seth(i*120)\n",
    "    t.fd(200)"
   ]
  },
  {
   "cell_type": "code",
   "execution_count": 1,
   "metadata": {},
   "outputs": [],
   "source": [
    "# 5. 编写代码完成如下功能：\n",
    "# （1）建立字典 d，包含内容是：\"数学\":101, \"语文\":202, \"英语\":203, \"物理\":204, \"生物\":206。\n",
    "# （2）向字典中添加键值对\"化学\":205。\n",
    "# （3）修改\"数学\"对应的值为 201。\n",
    "# （4）删除\"生物\"对应的键值对。\n",
    "# （5）按顺序打印字典 d 全部信息，参考格式如下（注意，其中冒号为英文冒号，逐行打印）：\n",
    "#     201:数学\n",
    "#     202:语文\n",
    "#     203:(略)"
   ]
  },
  {
   "cell_type": "code",
   "execution_count": 43,
   "metadata": {},
   "outputs": [
    {
     "name": "stdout",
     "output_type": "stream",
     "text": [
      "[('语文', 202), ('英语', 203), ('物理', 204), ('化学', 205), ('数学', 301)]\n",
      "202:语文\n",
      "203:英语\n",
      "204:物理\n",
      "205:化学\n",
      "301:数学\n"
     ]
    }
   ],
   "source": [
    "dic = {\"数学\":101, \"语文\":202, \"英语\":203, \"物理\":204, \"生物\":206}\n",
    "dic[\"化学\"] = 205\n",
    "dic[\"数学\"] = 301\n",
    "del dic[\"生物\"]\n",
    "dic = sorted(dic.items(), key=lambda k: k[1], reverse=False)\n",
    "# print(dic)\n",
    "for k in dic:\n",
    "    print(\"{}:{}\".format(k[1], k[0]))"
   ]
  },
  {
   "cell_type": "code",
   "execution_count": null,
   "metadata": {},
   "outputs": [],
   "source": [
    "# 6.请编写程序，生成随机密码。具体要求如下：\n",
    "# （1）使用 random 库，采用 0x1010 作为随机数种子。\n",
    "# （2）密码 abcdefghijklmnopqrstuvwxyzABCDEFGHIJKLMNOPQRSTUVWXYZ1234567890!@#$%^&* 中的字符组成。\n",
    "# （3）每个密码长度固定为 10 个字符。\n",
    "# （4）程序运行每次产生 10 个密码，每个密码一行。\n",
    "# （5）每次产生的 10 个密码首字符不能一样。\n",
    "# （6）程序运行后产生的密码保存在“随机密码.txt”文件中。"
   ]
  },
  {
   "cell_type": "code",
   "execution_count": 112,
   "metadata": {},
   "outputs": [
    {
     "name": "stdout",
     "output_type": "stream",
     "text": [
      "10 ['S', 'a', 'B', 'w', 'X', 'Y', 'c', 'D', 'T', 'U']\n",
      "10 ['So2WpkoC7i', 'armJ86eUG9', 'B*GcqsYC^B', 'wQ3bcfcAJy', 'Xdyg8pQTIS', 'YO!1YH1AP3', 'cuhZUk@s5&', 'D@4d9$TBfp', 'TBm#WfYNHr', 'Ue75y$E9Cv']\n",
      "***************\n",
      "So2WpkoC7i\n",
      "armJ86eUG9\n",
      "B*GcqsYC^B\n",
      "wQ3bcfcAJy\n",
      "Xdyg8pQTIS\n",
      "YO!1YH1AP3\n",
      "cuhZUk@s5&\n",
      "D@4d9$TBfp\n",
      "TBm#WfYNHr\n",
      "Ue75y$E9Cv\n"
     ]
    }
   ],
   "source": [
    "import random\n",
    "random.seed(0x1010)\n",
    "str = \"abcdefghijklmnopqrstuvwxyzABCDEFGHIJKLMNOPQRSTUVWXYZ1234567890!@#$%^&*\"\n",
    "passwd = []\n",
    "\n",
    "init = []\n",
    "num = 0\n",
    "while(num < 10):\n",
    "    start = [str[random.randint(0,len(str)-1)] for i in range(10)]\n",
    "    if(start[0] not in init):\n",
    "        init.append(start[0])\n",
    "        passwd.append(\"\".join(start))\n",
    "        num += 1\n",
    "print(len(init),init)\n",
    "print(len(passwd), passwd)\n",
    "print(\"***************\")\n",
    "print(\"\\n\".join(passwd))\n",
    "with open(\"随机密码.txt\", \"w\", encoding=\"utf-8\") as f:\n",
    "    f.write(\"\\n\".join(passwd))"
   ]
  },
  {
   "cell_type": "code",
   "execution_count": null,
   "metadata": {},
   "outputs": [],
   "source": []
  }
 ],
 "metadata": {
  "kernelspec": {
   "display_name": "Python 3",
   "language": "python",
   "name": "python3"
  },
  "language_info": {
   "codemirror_mode": {
    "name": "ipython",
    "version": 3
   },
   "file_extension": ".py",
   "mimetype": "text/x-python",
   "name": "python",
   "nbconvert_exporter": "python",
   "pygments_lexer": "ipython3",
   "version": "3.7.0"
  }
 },
 "nbformat": 4,
 "nbformat_minor": 2
}
