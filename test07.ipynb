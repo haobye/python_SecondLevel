{
 "cells": [
  {
   "cell_type": "code",
   "execution_count": 2,
   "metadata": {},
   "outputs": [],
   "source": [
    "#1.从键盘输入 3 个数作为三角形的边长，在屏幕上显示输出由这 3 个边长构成三角形的面积（保留 2 位小数）"
   ]
  },
  {
   "cell_type": "code",
   "execution_count": 3,
   "metadata": {},
   "outputs": [
    {
     "name": "stdout",
     "output_type": "stream",
     "text": [
      "请依次输入：3,4,5\n",
      "面积为： 6.0\n"
     ]
    }
   ],
   "source": [
    "a,b,c = eval(input(\"请依次输入：\"))\n",
    "p = (a+b+c) / 2\n",
    "area = pow(p*(p-a)*(p-b)*(p-c), 0.5)\n",
    "print(\"面积为：\", area)"
   ]
  },
  {
   "cell_type": "code",
   "execution_count": 4,
   "metadata": {},
   "outputs": [],
   "source": [
    "#2.将一个列表中所有的单词首字母转换成大写。"
   ]
  },
  {
   "cell_type": "code",
   "execution_count": 1,
   "metadata": {},
   "outputs": [
    {
     "name": "stdout",
     "output_type": "stream",
     "text": [
      "sfgs,asdg,sdfh\n",
      "['Sfgs', 'Asdg', 'Sdfh']\n"
     ]
    }
   ],
   "source": [
    "lis = input()\n",
    "lis = lis.split(\",\")\n",
    "new = [word[0].upper() + word[1:] for word in lis]\n",
    "# print(lis)\n",
    "print(new)"
   ]
  },
  {
   "cell_type": "code",
   "execution_count": 24,
   "metadata": {},
   "outputs": [
    {
     "name": "stdout",
     "output_type": "stream",
     "text": [
      "adsf,sdfg,sdfh\n",
      "Adsf\n",
      "Sdfg\n",
      "Sdfh\n"
     ]
    }
   ],
   "source": [
    "line = input()\n",
    "line = line.split(\",\")\n",
    "for i in line:\n",
    "    i = i.capitalize()\n",
    "    print(i)"
   ]
  },
  {
   "cell_type": "code",
   "execution_count": null,
   "metadata": {},
   "outputs": [],
   "source": [
    "# 3.从键盘输入一个列表，计算输出列表元素的均方差。"
   ]
  },
  {
   "cell_type": "code",
   "execution_count": null,
   "metadata": {},
   "outputs": [],
   "source": [
    "方差公式：     s^2 =  [(x1-x)^2 + (x2-x)^2 + … + (xn-x)^2] / n\n",
    "\n",
    "标准方差公式： s^2 =   [(x1-x)^2 + (x2-x)^2 + … + (xn-x)^2] / (n-1)"
   ]
  },
  {
   "cell_type": "code",
   "execution_count": 12,
   "metadata": {},
   "outputs": [
    {
     "name": "stdout",
     "output_type": "stream",
     "text": [
      "请输入：99,98,97,96,95\n",
      "方差为：1.58\n"
     ]
    }
   ],
   "source": [
    "def mean(lis):\n",
    "    end = 0.0\n",
    "    for num in lis:\n",
    "        end += num\n",
    "    mean_num = end / len(lis)\n",
    "    return mean_num\n",
    "\n",
    "def var(lis, mean):\n",
    "    end = 0.0\n",
    "    for num in lis:\n",
    "        end += ((num-mean) ** 2)\n",
    "    var = (end / (len(lis)-1)) ** 0.5\n",
    "    return var\n",
    "        \n",
    "lis = eval(input(\"请输入：\"))   # 99,98,97,96,95\n",
    "mean_num = mean(lis)\n",
    "var = var(lis, mean_num)\n",
    "print(\"方差为：{:.2f}\".format(var))"
   ]
  },
  {
   "cell_type": "code",
   "execution_count": null,
   "metadata": {},
   "outputs": [],
   "source": [
    "# 4.使用 turtle 库的 turtle.right() 函数和 turtle.circle() 函数绘制一个星星图形"
   ]
  },
  {
   "cell_type": "code",
   "execution_count": 1,
   "metadata": {},
   "outputs": [],
   "source": [
    "import turtle\n",
    "for i in range(4):\n",
    "    turtle.circle(-90,90)\n",
    "    turtle.right(180)"
   ]
  },
  {
   "cell_type": "code",
   "execution_count": 17,
   "metadata": {},
   "outputs": [],
   "source": [
    "import turtle\n",
    "turtle.circle(-90, 180)   \n",
    "done()"
   ]
  },
  {
   "cell_type": "code",
   "execution_count": null,
   "metadata": {},
   "outputs": [],
   "source": [
    "import turtle\n",
    "for i in range(500): \n",
    "    turtle.forward(i)\n",
    "    turtle.left(91)    # 90"
   ]
  },
  {
   "cell_type": "code",
   "execution_count": 2,
   "metadata": {},
   "outputs": [],
   "source": [
    "#绘制大耳朵兔\n",
    "from turtle import *\n",
    "speed(10)\n",
    " \n",
    "#小兔的面部\n",
    "color('pink')\n",
    "pensize(5)\n",
    "circle(radius=100)#脸\n",
    " \n",
    "#眼睛\n",
    "pencolor('black')\n",
    "#左眼\n",
    "pu()\n",
    "goto(-45,92)\n",
    "pd()\n",
    "begin_fill()\n",
    "color((0,0,0),(0,0,0.1))\n",
    "circle(radius=15)\n",
    "#右眼\n",
    "pu()\n",
    "goto(45,92)\n",
    "pd()\n",
    "circle(radius=15)\n",
    "end_fill()\n",
    " \n",
    "#鼻子\n",
    "pu()\n",
    "goto(20,60)\n",
    "color('pink')\n",
    "pd()\n",
    "begin_fill()\n",
    "goto(-20,60)\n",
    "goto(0,45)\n",
    "goto(20,60)\n",
    "end_fill()\n",
    " \n",
    "#嘴\n",
    "goto(0,45)\n",
    "goto(0,40)\n",
    "seth(-90)\n",
    "circle(10,120)\n",
    "pu()\n",
    "goto(0,40)\n",
    "seth(-90)\n",
    "pd()\n",
    "circle(-10,120)\n",
    " \n",
    " \n",
    "#小兔的耳朵\n",
    "#左耳\n",
    "pu()\n",
    "goto(-60,180)#\n",
    "seth(200)\n",
    "pd()\n",
    "circle(radius=350,extent=90)\n",
    "goto(-98,110)\n",
    "#右耳\n",
    "pu()\n",
    "goto(60,180)#\n",
    "seth(-20)\n",
    "pd()\n",
    "circle(radius=-350,extent=90)\n",
    "goto(98,110)\n",
    " \n",
    "#小兔的身体\n",
    "pu()\n",
    "goto(20,3)\n",
    "seth(-25)\n",
    "pd()\n",
    "circle(radius=-250,extent=25)\n",
    "circle(radius=-135,extent=260)\n",
    "seth(50)\n",
    "circle(radius=-250,extent=25)\n",
    " \n",
    "##小兔的胳膊\n",
    "#左臂\n",
    "pu()\n",
    "seth(180)\n",
    "goto(-30,-3)\n",
    "pd()\n",
    "#小短胳膊\n",
    "##circle(radius=270,extent=20)\n",
    "##circle(radius=20,extent=190)\n",
    "circle(radius=248,extent=30)\n",
    "circle(radius=29,extent=185)\n",
    "#右臂\n",
    "pu()\n",
    "seth(0)\n",
    "goto(30,-3)\n",
    "pd()\n",
    "circle(radius=-248,extent=30)\n",
    "circle(radius=-27,extent=184)\n",
    " \n",
    "##小兔的脚\n",
    "##左脚\n",
    "pu()\n",
    "goto(-162,-260)#\n",
    "pd()\n",
    "seth(0)\n",
    "circle(radius=41)\n",
    "#右脚\n",
    "pu()\n",
    "goto(164,-260)\n",
    "pd()\n",
    "circle(radius=41)\n",
    " \n",
    "done()"
   ]
  },
  {
   "cell_type": "code",
   "execution_count": null,
   "metadata": {},
   "outputs": [],
   "source": [
    "# 5.用字典和列表型变量完成某课程的考勤记录统计，某班有 74 名同学，名单由考生目录下文件 txt 给出，\n",
    "# 某课程 10 次考勤数据由考生目录下文件 1.csv，2.csv … 给出。请输出全勤同学的名字。"
   ]
  },
  {
   "cell_type": "code",
   "execution_count": 66,
   "metadata": {},
   "outputs": [
    {
     "name": "stdout",
     "output_type": "stream",
     "text": [
      "['李康', '姜子豪', '张冲', '陈金铭', '张智瑜', '冯兴鑫', '张友康', '陶扬', '杨飞翔', '王旭', '洪伟斌', '王天宇', '赵强', '杨绍华', '左姜', '杜猛', '芮鹏程', '张宇', '周宇飞', '杨邹兵', '刘建飞', '章毅松', '唐政', '杨沪', '张嵘', '陈浪', '吕伟伟', '王海翔', '张威', '何笑添', '单浩峰', '尚越', '张枫', '李祥', '侯延顺', '唐海涛', '邵马超', '曹仁杰', '李家俊', '王辉', '何雨晴', '黄宇', '陈寅', '蔡冯顺', '徐明阳', '徐天宇', '王培', '许润东', '马朝阳', '郑宇豪', '林启航', '胡亮', '申奕', '钟晋军', '朱鹏程', '赵前坤', '程鑫', '李佳冬', '俞佳兴', '胡鹏万', '陈志军', '王倩', '王权权', '陈小艺', '王雨豪', '张和鑫', '薛键', '陈恒杰', '沈洋', '金凯', '胡鹏程', '魏辰', '蔡叶开', '曹昊昊']\n",
      "74\n",
      "******\n",
      "['张冲', '张友康', '陶扬', '杨飞翔', '洪伟斌', '左姜', '张宇', '周宇飞', '杨邹兵', '刘建飞', '章毅松', '唐政', '杨沪', '张嵘', '陈浪', '吕伟伟', '张威', '何笑添', '单浩峰', '张枫', '侯延顺', '唐海涛', '邵马超', '曹仁杰', '王辉', '何雨晴', '蔡冯顺', '许润东', '马朝阳', '郑宇豪', '申奕', '钟晋军', '朱鹏程', '程鑫', '俞佳兴', '王雨豪', '薛键', '陈恒杰', '蔡叶开', '曹昊昊']\n",
      "40\n"
     ]
    }
   ],
   "source": [
    "# with open(r\"F:/二级考试python/05操作题/6/Name.txt\", \"r\", encoding=\"utf-8\") as f:\n",
    "#     all_name = f.readlines()\n",
    "# all_name[0] = all_name[0][1:]\n",
    "# all_name = [name.strip() for name in all_name]\n",
    "# print(all_name)\n",
    "# print(len(all_name))\n",
    "\n",
    "# for i in range(1, 11):\n",
    "#     with open(r\"F:/二级考试python/05操作题/7/\"+ str(i) +\".csv\", \"r\", encoding=\"utf-8\") as f:\n",
    "#         one_name = f.readlines()\n",
    "#     one_name = [line.split(\",\")[0] for line in one_name]\n",
    "#     one_name.pop(0)\n",
    "#     for name in all_name:\n",
    "#         if name not in one_name:\n",
    "#             all_name.remove(name)\n",
    "# print(\"******\")\n",
    "# print(all_name)\n",
    "# print(len(all_name))"
   ]
  },
  {
   "cell_type": "code",
   "execution_count": 65,
   "metadata": {},
   "outputs": [
    {
     "name": "stdout",
     "output_type": "stream",
     "text": [
      "全勤同学有： \n",
      "陈恒杰,张冲,蔡冯顺,蔡叶开,曹昊昊,曹仁杰,陈浪,程鑫,单浩峰,何笑添,何雨晴,洪伟斌,侯延顺,刘建飞,吕伟伟,马朝阳,邵马超,申奕,唐海涛,唐政,陶扬,王辉,王雨豪,许润东,薛键,杨飞翔,杨沪,杨邹兵,张枫,张嵘,张威,张友康,张宇,章毅松,郑宇豪,钟晋军,周宇飞,朱鹏程,\n",
      " 38\n"
     ]
    }
   ],
   "source": [
    "ls = []\n",
    "for i in range(1,11):\n",
    "    fo = open(r\"F:/二级考试python/05操作题/7/\" + str(i) +\".csv\",\"r\",encoding = \"utf-8\")\n",
    "    for line in fo:\n",
    "        line = line.replace(\"\\n\",\"\")\n",
    "        ls.append(line.split(\",\")[0])        \n",
    "    fo.close()\n",
    "# print(ls)  # 将10次考勤的名字记录进列表(重复)\n",
    "\n",
    "counts = {}\n",
    "for name in ls:\n",
    "    counts[name] = counts.get(name,0) + 1\n",
    "# print(counts)  # 得到每个人考勤次数\n",
    "\n",
    "num = 0\n",
    "items = list(counts.items())\n",
    "print(\"全勤同学有： \\n\",end =\"\")\n",
    "for i in range(1,74,1):   # 从1到74,步长为1,即为默认,可省略\n",
    "    word,count = items[i]\n",
    "    if count == 10 :\n",
    "        num += 1\n",
    "#         print(\"{0:^10}:{1:<5}次\".format(word,count))\n",
    "        print(word,end =\",\")\n",
    "print(\"\\n\",num)"
   ]
  },
  {
   "cell_type": "code",
   "execution_count": null,
   "metadata": {},
   "outputs": [],
   "source": [
    "# 6.苏格拉底的名言部分被翻译为中文，部分内容分词结果由考生目录下文件 sgldout.txt 给出。对文件 sgldout.txt 进\n",
    "# 行分析，输出词频排名前五的词 (不包括中文标点符号) 和次数到 sgldstatistics.txt。"
   ]
  },
  {
   "cell_type": "code",
   "execution_count": 20,
   "metadata": {},
   "outputs": [
    {
     "name": "stdout",
     "output_type": "stream",
     "text": [
      "的:59\n",
      "是:18\n",
      "而:13\n",
      "我:8\n",
      "人:6\n"
     ]
    }
   ],
   "source": [
    "fo = open(\"F:/二级考试python/05操作题/7/sgldout.txt\", \"r\", encoding=\"utf-8\")\n",
    "word_list = fo.readlines()\n",
    "fo.close()\n",
    "word_list = [word.strip() for word in word_list]\n",
    "\n",
    "del_str = \"“ ” ， 。\"\n",
    "dic = {}\n",
    "for word in word_list:\n",
    "    if word not in del_str:\n",
    "        dic[word] = dic.get(word, 0) + 1\n",
    "\n",
    "item = list(dic.items())\n",
    "item.sort(key=lambda a :a[1], reverse=True)\n",
    "# print(item[0:5])\n",
    "\n",
    "fi = open(\"F:/二级考试python/05操作题/7/sgldstatic.txt\", \"a\", encoding=\"utf-8\")\n",
    "for line in item[0:5]:\n",
    "    fi.write(line[0]+\":\"+str(line[1]))\n",
    "    print(line[0]+\":\"+str(line[1]))"
   ]
  },
  {
   "cell_type": "code",
   "execution_count": 3,
   "metadata": {},
   "outputs": [
    {
     "name": "stdout",
     "output_type": "stream",
     "text": [
      "的:59\n",
      "是:18\n",
      "而:13\n",
      "我:8\n",
      "人:6\n"
     ]
    }
   ],
   "source": [
    "import jieba\n",
    "fo = open(\"F:/二级考试python/05操作题/7/sgldout.txt\",\"r\",encoding =\"utf-8\")\n",
    "words = fo.readlines()\n",
    "fo.close()\n",
    "\n",
    "sym = \"；。，“”： \"\n",
    "DictWords = {}\n",
    "for ls in words:\n",
    "    if ls[:-1] not in sym:\n",
    "        DictWords[ls[:-1]] = DictWords.get(ls[:-1], 0) + 1\n",
    "        L = list(DictWords.items())\n",
    "        L.sort(key = lambda s:s[1],reverse=True)\n",
    "# 输出到文件\n",
    "fo = open(\"sgldstatistics.txt\", \"w\", encoding=\"utf-8\")      \n",
    "for i in range(5):\n",
    "    fo.write(L[i][0] + \":\" + str(L[i][1]) + \"\\n\")\n",
    "fo.close()\n",
    "\n",
    "for i in range(5):\n",
    "    print(L[i][0] + \":\" + str(L[i][1]))"
   ]
  },
  {
   "cell_type": "code",
   "execution_count": null,
   "metadata": {},
   "outputs": [],
   "source": []
  }
 ],
 "metadata": {
  "kernelspec": {
   "display_name": "Python 3",
   "language": "python",
   "name": "python3"
  },
  "language_info": {
   "codemirror_mode": {
    "name": "ipython",
    "version": 3
   },
   "file_extension": ".py",
   "mimetype": "text/x-python",
   "name": "python",
   "nbconvert_exporter": "python",
   "pygments_lexer": "ipython3",
   "version": "3.6.5"
  }
 },
 "nbformat": 4,
 "nbformat_minor": 2
}
