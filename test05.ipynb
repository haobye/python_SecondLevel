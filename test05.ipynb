{
 "cells": [
  {
   "cell_type": "code",
   "execution_count": null,
   "metadata": {},
   "outputs": [],
   "source": [
    "# 1.编写程序，从键盘上获得用户连续输入且用逗号分隔的若干个数字（不必以逗号结尾），计算所有输入数字的和并输出"
   ]
  },
  {
   "cell_type": "code",
   "execution_count": null,
   "metadata": {},
   "outputs": [],
   "source": [
    "n = input()\n",
    "nums = eval(n)\n",
    "s = 0\n",
    "for i in nums:\n",
    "    s += i\n",
    "print(s)"
   ]
  },
  {
   "cell_type": "code",
   "execution_count": null,
   "metadata": {},
   "outputs": [],
   "source": [
    "# 2.编写程序，获得用户输入的数值 M 和 N，求 M 和 N 的最大公约数。"
   ]
  },
  {
   "cell_type": "code",
   "execution_count": 8,
   "metadata": {},
   "outputs": [
    {
     "name": "stdout",
     "output_type": "stream",
     "text": [
      "12\n",
      "8\n",
      "4\n"
     ]
    }
   ],
   "source": [
    "def GreatCommonDivisor(a,b):\n",
    "#     if a > b:\n",
    "#         a,b = b,a\n",
    "#     print(\"a\", a)       验证到底是否有影响，目前认为无影响\n",
    "#     print(\"b\", b)\n",
    "    r = 1\n",
    "    while r != 0:\n",
    "        r = a % b\n",
    "        a = b\n",
    "        b = r\n",
    "    return a\n",
    "\n",
    "m = eval(input())\n",
    "n = eval(input())\n",
    "\n",
    "print(GreatCommonDivisor(m,n))"
   ]
  },
  {
   "cell_type": "code",
   "execution_count": null,
   "metadata": {},
   "outputs": [],
   "source": [
    "# 3.jieba 是一个中文分词库，一些句子可能存在多种分词结果，请补充横线处代码，产生字符串 s 可能的所有分词结果列表"
   ]
  },
  {
   "cell_type": "code",
   "execution_count": 1,
   "metadata": {},
   "outputs": [
    {
     "name": "stderr",
     "output_type": "stream",
     "text": [
      "Building prefix dict from the default dictionary ...\n",
      "Loading model from cache C:\\Users\\ADMINI~1\\AppData\\Local\\Temp\\jieba.cache\n",
      "Loading model cost 18.958 seconds.\n",
      "Prefix dict has been built succesfully.\n"
     ]
    },
    {
     "name": "stdout",
     "output_type": "stream",
     "text": [
      "['世界冠军', '运动员', '的', '乒乓球', '拍卖', '完', '了']\n"
     ]
    }
   ],
   "source": [
    "import jieba\n",
    "s = \"世界冠军运动员的乒乓球拍卖完了\"\n",
    "ls = jieba.lcut(s)\n",
    "print(ls)"
   ]
  },
  {
   "cell_type": "code",
   "execution_count": null,
   "metadata": {},
   "outputs": [],
   "source": [
    "4.使用 turtle 库的 turtle.circle() 函数、turtle.seth() 函数和 turtle.left() 函数绘制一个四瓣花图形，效果如下图所示。\n",
    "请结合程序整体框架，补充横线处代码，从左上角花瓣开始，逆时针作画。"
   ]
  },
  {
   "cell_type": "code",
   "execution_count": 1,
   "metadata": {},
   "outputs": [],
   "source": [
    "import turtle as t\n",
    "for i in range(4):\n",
    "    t.seth(90 * (i + 1))\n",
    "    #90,180,270，360\n",
    "    t.circle(200,90)\n",
    "    #-90,0,90,180\n",
    "    t.seth(-90 + i * 90)\n",
    "    t.circle(200, 90)"
   ]
  },
  {
   "cell_type": "code",
   "execution_count": null,
   "metadata": {},
   "outputs": [],
   "source": [
    "# 5.编写程序，实现将列表 ls = [23,45,78,87,11,67,89,13,243,56,67,311,431,111,141] 中的素数去除，并输出去除素数后列表 ls 的元素个数。"
   ]
  },
  {
   "cell_type": "code",
   "execution_count": 14,
   "metadata": {},
   "outputs": [
    {
     "name": "stdout",
     "output_type": "stream",
     "text": [
      "15\n",
      "13\n"
     ]
    }
   ],
   "source": [
    "def is_prime(n):\n",
    "    for i in range(2,n-1): \n",
    "        if(n%i == 0):\n",
    "            return True\n",
    "        else:\n",
    "            return False\n",
    "\n",
    "ls = [23,45,78,87,11,67,89,13,243,56,67,311,431,111,141]\n",
    "print(len(ls))\n",
    "for i in ls.copy():\n",
    "    if is_prime(i)== True:\n",
    "        ls.remove(i)\n",
    "print(len(ls))"
   ]
  },
  {
   "cell_type": "code",
   "execution_count": null,
   "metadata": {},
   "outputs": [],
   "source": [
    "6.古代航海人为了方便在航海时辨别方位和观测天象，将散布在天上的星星运用想象力将它们连接起来，有一半是在古时候已命名，另一半是近代开始命名的。\n",
    "两千多年前古希腊的天文学家希巴克斯命名十二星座，依次为白羊座、金牛座、双子座、巨蟹座、狮子座、处女座、天秤座、天蝎座、射手座、魔蝎座、水瓶座\n",
    "和双鱼座。给出二维数据存储CSV文件（SunSign.csv），内容如下：\n",
    "星座,开始月日,结束月日,Unicode\n",
    "水瓶座,120,218,9810\n",
    "双鱼座,219,320,9811\n",
    "白羊座,321,419,9800\n",
    "金牛座,420,520,9801\n",
    "双子座,521,621,9802\n",
    "巨蟹座,622,722,9803\n",
    "狮子座,723,822,9804\n",
    "处女座,823,922,9805\n",
    "天秤座,923,1023,9806\n",
    "天蝎座,1024,1122,9807\n",
    "射手座,1123,1221,9808\n",
    "魔蝎座,1222,119,9809\n",
    "请编写程序，读入CSV文件中数据，循环获得用户输入，直至用户输入 \"exit\" 退出。\n",
    "根据用户输入的星座名称，输出此星座的出生日期范围及对应字符形式。\n",
    "如果输入的星座名称有误，请输出“输入星座名称有误！”。"
   ]
  },
  {
   "cell_type": "code",
   "execution_count": null,
   "metadata": {},
   "outputs": [
    {
     "name": "stdout",
     "output_type": "stream",
     "text": [
      "{'\\ufeff星座': ['开始月日', '结束月日', 'Unicode\\n'], '水瓶座': ['120', '218', '9810\\n'], '双鱼座': ['219', '320', '9811\\n'], '白羊座': ['321', '419', '9800\\n'], '金牛座': ['420', '520', '9801\\n'], '双子座': ['521', '621', '9802\\n'], '巨蟹座': ['622', '722', '9803\\n'], '狮子座': ['723', '822', '9804\\n'], '处女座': ['823', '922', '9805\\n'], '天秤座': ['923', '1023', '9806\\n'], '天蝎座': ['1024', '1122', '9807\\n'], '射手座': ['1123', '1221', '9808\\n'], '魔蝎座': ['1222', '119', '9809\\n']}\n",
      "请输入：天蝎座\n",
      "9807\n",
      "\n",
      "天蝎座的生日在1024和1122之间，编码为9807\n",
      "\n"
     ]
    }
   ],
   "source": [
    "with open(\"F:/二级考试python/05操作题/5/SunSign.csv\", \"r\", encoding=\"utf-8\") as f:\n",
    "    file = f.readlines()\n",
    "\n",
    "dic = {}\n",
    "for line in file:\n",
    "    dic[line.split(\",\")[0]] = dic.get(line.split(\",\")[0], line.split(\",\")[1:])\n",
    "\n",
    "names = [key for key in dic]\n",
    "\n",
    "while(True):\n",
    "    name = input(\"请输入：\")\n",
    "    if name == \"exit\":\n",
    "        print(\"欢迎下次使用\")\n",
    "        break\n",
    "    if name in names:\n",
    "        print(\"{}的生日在{}和{}之间，编码为{}\".format(name, dic[name][0], dic[name][1], dic[name][2]))\n",
    "    else:\n",
    "        print(\"输入星座名称有误！\")"
   ]
  },
  {
   "cell_type": "code",
   "execution_count": null,
   "metadata": {},
   "outputs": [],
   "source": []
  },
  {
   "cell_type": "code",
   "execution_count": null,
   "metadata": {},
   "outputs": [],
   "source": []
  }
 ],
 "metadata": {
  "kernelspec": {
   "display_name": "Python 3",
   "language": "python",
   "name": "python3"
  }
 },
 "nbformat": 4,
 "nbformat_minor": 2
}
