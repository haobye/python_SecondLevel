{
 "cells": [
  {
   "cell_type": "code",
   "execution_count": null,
   "metadata": {},
   "outputs": [],
   "source": [
    "# 1.从键盘输入一个整数和一个字符，以逗号隔开，在屏幕上显示输出一条信息。\n",
    "# 输入：请输入1个整数和1个符号，逗号隔开:10,@\n",
    "# 输出：@@@@@@@@@@10@@@@@@@@@@"
   ]
  },
  {
   "cell_type": "code",
   "execution_count": 33,
   "metadata": {
    "collapsed": true
   },
   "outputs": [
    {
     "name": "stdout",
     "output_type": "stream",
     "text": [
      "请输入一个整数和一个字符(逗号隔开)：4,@\n",
      "@@@@ 4 @@@@\n"
     ]
    }
   ],
   "source": [
    "ls = input(\"请输入一个整数和一个字符(逗号隔开)：\").split(\",\")\n",
    "print(eval(ls[0])*ls[1], ls[0], eval(ls[0])*ls[1])"
   ]
  },
  {
   "cell_type": "code",
   "execution_count": 34,
   "metadata": {
    "collapsed": true
   },
   "outputs": [
    {
     "name": "stdout",
     "output_type": "stream",
     "text": [
      "请输入：4,#\n",
      "####4####\n"
     ]
    }
   ],
   "source": [
    "# ls = input(\"请输入：\").split(\",\")\n",
    "# print(ls[0].center(eval(ls[0])*2+len(ls[0]), ls[1]))\n",
    "# # 注意前面要加上数字的数量"
   ]
  },
  {
   "cell_type": "code",
   "execution_count": 35,
   "metadata": {},
   "outputs": [],
   "source": [
    "# 2.输入一个正整数n，自动生成n个1-100范围内的随机浮点数，计算输出每个随机数，并显示平均值。 "
   ]
  },
  {
   "cell_type": "code",
   "execution_count": 43,
   "metadata": {},
   "outputs": [
    {
     "name": "stdout",
     "output_type": "stream",
     "text": [
      ">>>5\n",
      "23.6079550929203\n",
      "96.95546730834353\n",
      "53.87659129767355\n",
      "16.702184335690063\n",
      "87.3675788742624\n",
      "the average is :  55.701955381777964\n"
     ]
    }
   ],
   "source": [
    "import random\n",
    "n = eval(input(\">>>\"))\n",
    "total = 0\n",
    "for i in range(n):\n",
    "    num = random.uniform(1,100)     # 取指定区间的浮点值\n",
    "    total += num\n",
    "    print(num)\n",
    "print(\"the average is : \", total/n)"
   ]
  },
  {
   "cell_type": "code",
   "execution_count": null,
   "metadata": {},
   "outputs": [],
   "source": [
    "# 3.输入一个字符串，检查并统计字符串中包含的英文单引号的对数。如果没有找到单引号，就在屏幕\n",
    "# 上显示“没有单引号”；每统计到2个单引号，就算一对，如果找到2对单引号，就显示“找到了2对\n",
    "# 单引号”；如果找到3个单引号，就显示“有1对配对单引号，存在没有配对的单引号”。示例如下：\n",
    "# 输入：dfd'dfa'fd'\n",
    "# 输出：有1对配对单引号，存在没有配对的单引号"
   ]
  },
  {
   "cell_type": "code",
   "execution_count": 51,
   "metadata": {},
   "outputs": [
    {
     "name": "stdout",
     "output_type": "stream",
     "text": [
      "找到了1对单引号，存在没有配对的单引号\n"
     ]
    }
   ],
   "source": [
    "string = \"dfd'dfa'fd'\"\n",
    "total = 0\n",
    "for i in string:\n",
    "    if i == \"'\":\n",
    "        total += 1\n",
    "if total == 0:\n",
    "    print(\"没有单引号\")\n",
    "elif total % 2 == 0:\n",
    "    print(\"找到了{}对单引号\".format(total/2))\n",
    "else:\n",
    "    print(\"找到了{}对单引号，存在没有配对的单引号\".format(total//2))"
   ]
  },
  {
   "cell_type": "code",
   "execution_count": null,
   "metadata": {},
   "outputs": [],
   "source": [
    "# 4.使用turtle库的turtle.fd()函数和turtle.seth()函数绘制嵌套六角形，六角形边长从1像素开始，\n",
    "# 第一条边从0度方向开始，边长按照3个像素递增，效果如下图所示。"
   ]
  },
  {
   "cell_type": "code",
   "execution_count": 55,
   "metadata": {},
   "outputs": [],
   "source": [
    "import turtle\n",
    "px = 1\n",
    "angle = 0  # 角度\n",
    "for i in range(10):\n",
    "    for i in range(6):\n",
    "        turtle.fd(px)\n",
    "        angle += 60\n",
    "        turtle.seth(angle)\n",
    "        px += 3    # 缩进不同，效果不同\n",
    "turtle.done()"
   ]
  },
  {
   "cell_type": "code",
   "execution_count": 14,
   "metadata": {},
   "outputs": [],
   "source": [
    "# 5.有一个文件data.txt内容如下：{'sid':'501','7月': 9000,'8月':9500,'9月':9200}\n",
    "# 将文件的数据内容提取出来，计算每个人的平均工资，将其转化为字典salary，按照key的递增序\n",
    "# 在屏幕上显示输出score的内容，内容示例如下：501:[9500, 9000, 9200, 9233]"
   ]
  },
  {
   "cell_type": "code",
   "execution_count": 53,
   "metadata": {},
   "outputs": [
    {
     "name": "stdout",
     "output_type": "stream",
     "text": [
      "501:[9000, 9500, 9200, 9233]\n",
      "502:[8000, 8500, 8200, 8233]\n",
      "503:[7000, 7500, 7200, 7233]\n"
     ]
    }
   ],
   "source": [
    "fi = open(\"F:/二级考试python/05操作题/12/data.txt\", \"r\", encoding=\"utf-8\")\n",
    "salary = {}\n",
    "for line in fi:\n",
    "    info = eval(line)\n",
    "    items = info.items()  \n",
    "    ls = []\n",
    "    for it in items:\n",
    "        if it[0] == \"sid\":\n",
    "            sid = it[1]\n",
    "        else:\n",
    "            ls.append(it[1])\n",
    "    ls.append(sum(ls)//len(ls))\n",
    "    salary[sid] = ls\n",
    "fi.close()\n",
    "\n",
    "l = list(salary.items())\n",
    "l.sort(key=lambda s:s[0], reverse=False)\n",
    "for i in l:\n",
    "    print(\"{}:{}\".format(i[0],i[1]))\n"
   ]
  },
  {
   "cell_type": "code",
   "execution_count": null,
   "metadata": {},
   "outputs": [],
   "source": [
    "6.附件文件question.txt中有若干道Python选择题目，第1行的第1个数据为题号，后续的4行是4个\n",
    "选项，接下来是第二道题。\n",
    "读取其中的内容，提取题干和四个选项的内容，利用jieba分词并统计出现频率最高的3个词，其中\n",
    "要删除以下的常用字和符号\" 的，:：可以是和中或一个以下“”了其时产生DBC\"(第一个字符为空格)\n",
    "输出格式：统计每道题出现频率最高的3个词，显示输出在屏幕上。示例如下：\n",
    "第1题的主题是：\n",
    "字典:6\n",
    "类型:5\n",
    "对象:1\n",
    "第24题的主题是：\n",
    "库:1\n",
    "Python:1\n",
    "属于:1"
   ]
  },
  {
   "cell_type": "code",
   "execution_count": 142,
   "metadata": {},
   "outputs": [
    {
     "name": "stdout",
     "output_type": "stream",
     "text": [
      "第1题的主题是：\n",
      "  关于:1\n",
      "  字典:1\n",
      "  类型:1\n",
      "第2题的主题是：\n",
      "  关于:1\n",
      "  组合:1\n",
      "  数据类型:1\n",
      "第12题的主题是：\n",
      "  如果:1\n",
      "  Python:1\n",
      "  程序执行:1\n",
      "第24题的主题是：\n",
      "  属于:1\n",
      "  Python:1\n",
      "  图像处理:1\n"
     ]
    }
   ],
   "source": [
    "import jieba \n",
    "fi = open(\"F:/二级考试python/05操作题/12/question.txt\", \"r\", encoding=\"utf-8\")\n",
    "data = fi.readlines()\n",
    "fi.close()\n",
    "\n",
    "def parse(content):\n",
    "    ls = jieba.lcut(content)\n",
    "    dic = {}\n",
    "    for word in ls:\n",
    "        dic[word] = dic.get(word, 0)+1 \n",
    "    items = list(dic.items())\n",
    "    items.sort(key=lambda x:x[1], reverse=True)\n",
    "    k = 0\n",
    "#     print(items)\n",
    "    for item in items:\n",
    "        if item[0] not in \" 的，:：可以是和中或一个以下“”了其时产生DBC\":\n",
    "            if k == 3:\n",
    "                break\n",
    "            else:\n",
    "                print(\"  {}:{}\".format(item[0],item[1]))\n",
    "                k+=1\n",
    "\n",
    "for line in data:\n",
    "    con = \"\"\n",
    "    line = line.replace(\"\\n\",\"\").strip().split(\".\")\n",
    "    con += line[1]\n",
    "    try:\n",
    "        num = eval(line[0])\n",
    "    except:\n",
    "        pass\n",
    "    else:\n",
    "        print(\"第{}题的主题是：\".format(num))\n",
    "        parse(con)\n"
   ]
  },
  {
   "cell_type": "code",
   "execution_count": null,
   "metadata": {},
   "outputs": [],
   "source": []
  }
 ],
 "metadata": {
  "kernelspec": {
   "display_name": "Python 3",
   "language": "python",
   "name": "python3"
  },
  "language_info": {
   "codemirror_mode": {
    "name": "ipython",
    "version": 3
   },
   "file_extension": ".py",
   "mimetype": "text/x-python",
   "name": "python",
   "nbconvert_exporter": "python",
   "pygments_lexer": "ipython3",
   "version": "3.6.5"
  }
 },
 "nbformat": 4,
 "nbformat_minor": 2
}
