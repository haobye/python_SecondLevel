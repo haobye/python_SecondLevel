{
 "cells": [
  {
   "cell_type": "code",
   "execution_count": null,
   "metadata": {},
   "outputs": [],
   "source": [
    "# 1.从键盘输入一个汉字“中”，在屏幕上显示输出该汉字的 Unicode 编码值。"
   ]
  },
  {
   "cell_type": "code",
   "execution_count": 2,
   "metadata": {
    "collapsed": true
   },
   "outputs": [
    {
     "name": "stdout",
     "output_type": "stream",
     "text": [
      "请输入一个汉字：中\n",
      "\"中\"汉字的Unicode编码：20013\n"
     ]
    }
   ],
   "source": [
    "word = input(\"请输入一个汉字：\")\n",
    "print(\"\\\"{}\\\"汉字的Unicode编码：{}\".format(word, ord(word)))"
   ]
  },
  {
   "cell_type": "code",
   "execution_count": 6,
   "metadata": {
    "collapsed": true
   },
   "outputs": [
    {
     "name": "stdout",
     "output_type": "stream",
     "text": [
      "请输入字母：b\n",
      "其对应的ASCII编码为： 98\n"
     ]
    }
   ],
   "source": [
    "word = input(\"请输入字母：\")\n",
    "print(\"其对应的ASCII编码为：\", ord(word))"
   ]
  },
  {
   "cell_type": "code",
   "execution_count": null,
   "metadata": {},
   "outputs": [],
   "source": [
    "2.从键盘输入两个数（换行），调用函数 gcd() 输出两个数的最大公约数显示在屏幕上。\n",
    "@@@@@@@@@"
   ]
  },
  {
   "cell_type": "code",
   "execution_count": 28,
   "metadata": {},
   "outputs": [
    {
     "name": "stdout",
     "output_type": "stream",
     "text": [
      "请输入第一个正整数：78\n",
      "请输入第二个正整数：24\n",
      "78与24的最大公约数为6\n"
     ]
    }
   ],
   "source": [
    "def gcd(x,y):\n",
    "    if x < y:\n",
    "        x,y = y,x\n",
    "    while x % y != 0:\n",
    "        r = x % y\n",
    "        x = y\n",
    "        y = r\n",
    "    return y\n",
    "    \n",
    "x = eval(input(\"请输入第一个正整数：\"))\n",
    "y = eval(input(\"请输入第二个正整数：\"))\n",
    "g = gcd(x,y)\n",
    "print(\"{}与{}的最大公约数为 {}\".format(x, y, g))"
   ]
  },
  {
   "cell_type": "code",
   "execution_count": null,
   "metadata": {},
   "outputs": [],
   "source": [
    "# 3.从键盘输入一个列表，计算输出列表元素的平均值。"
   ]
  },
  {
   "cell_type": "code",
   "execution_count": 37,
   "metadata": {},
   "outputs": [
    {
     "name": "stdout",
     "output_type": "stream",
     "text": [
      "平均数为： 4.25\n"
     ]
    }
   ],
   "source": [
    "lis = [2,3,5,7]\n",
    "num = 0\n",
    "for i in lis:\n",
    "    num += i\n",
    "print(\"平均数为：\", num/len(lis))"
   ]
  },
  {
   "cell_type": "code",
   "execution_count": 39,
   "metadata": {},
   "outputs": [
    {
     "name": "stdout",
     "output_type": "stream",
     "text": [
      "2,3,4,5\n",
      "平均值为： 3.5\n"
     ]
    }
   ],
   "source": [
    "def mean(numlist):\n",
    "    s = 0.0\n",
    "    for num in numlist:\n",
    "        s = s + num\n",
    "    return s/len(numlist)\n",
    "#请输入一个列表：\n",
    "ls = eval(input(\"\"))\n",
    "print(\"平均值为：\",mean(ls))"
   ]
  },
  {
   "cell_type": "code",
   "execution_count": null,
   "metadata": {},
   "outputs": [],
   "source": [
    "4.使用 turtle 库的 turtle.right() 函数和 turtle.circle() 函数绘制一个四叶草，效果如下图所示。\n",
    "@@@@@@@@@"
   ]
  },
  {
   "cell_type": "code",
   "execution_count": 1,
   "metadata": {},
   "outputs": [],
   "source": [
    "import turtle\n",
    "for i in range(4):\n",
    "    turtle.right(90)\n",
    "    turtle.circle(50, 180)"
   ]
  },
  {
   "cell_type": "code",
   "execution_count": null,
   "metadata": {},
   "outputs": [],
   "source": [
    "# 5.使用字典和列表型变量完成某课程的考勤记录统计，某班有 74 名同学，名单由考生目录下文件 Name.txt 给出，\n",
    "# 某课程第一次考勤数据由考生目录下文件 1.csv 给出。请求出第一次缺勤同学的名单"
   ]
  },
  {
   "cell_type": "code",
   "execution_count": 39,
   "metadata": {},
   "outputs": [
    {
     "name": "stdout",
     "output_type": "stream",
     "text": [
      "第一次缺勤名单： 杜猛 陈寅 胡亮 王权权\n"
     ]
    }
   ],
   "source": [
    "with open(r\"F:\\二级考试python\\05操作题\\6\\Name.txt\", 'r', encoding='utf-8') as f:\n",
    "    all_name = f.readlines()\n",
    "all_name[0] = all_name[0][1:]\n",
    "all_name = [n.strip() for n in all_name]\n",
    "# print(all_name)\n",
    "\n",
    "with open(r\"F:\\二级考试python\\05操作题\\6\\1.csv\", 'r', encoding='utf-8') as f:\n",
    "    name_list = f.readlines()\n",
    "name_list.pop(0)\n",
    "name_list = [line.split(\",\")[0] for line in name_list]\n",
    "# print(name_list)\n",
    "\n",
    "for name in name_list:\n",
    "    if name in all_name:\n",
    "        all_name.remove(name)\n",
    "print(\"第一次缺勤名单：\", \" \".join(all_name))"
   ]
  },
  {
   "cell_type": "code",
   "execution_count": 34,
   "metadata": {},
   "outputs": [
    {
     "name": "stdout",
     "output_type": "stream",
     "text": [
      "第一次缺勤同学有：  ﻿李康 杜猛 陈寅 胡亮 王权权 "
     ]
    }
   ],
   "source": [
    "with open(r\"F:\\二级考试python\\05操作题\\6\\1.csv\",\"r\",encoding = \"utf-8\") as fo:\n",
    "    foR =fo.readlines()\n",
    "ls = []\n",
    "for line in foR:\n",
    "    line = line.replace(\"\\n\",\"\")\n",
    "    ls.append(line.split(\",\"))\n",
    "# 从name.txt文件中读取所有同学的名单\n",
    "with open(r\"F:\\二级考试python\\05操作题\\6\\Name.txt\",\"r\",encoding = \"utf-8\") as foName:\n",
    "    foNameR = foName.readlines()\n",
    "lsAll = []\n",
    "for line in foNameR:\n",
    "    line = line.replace(\"\\n\",\"\")\n",
    "    lsAll.append(line)\n",
    "#求出第一次缺勤同学的名单\n",
    "for l in ls:\n",
    "    if l[0] in lsAll:\n",
    "        lsAll.remove(l[0])\n",
    "print(\"第一次缺勤同学有：\", end=\"  \")\n",
    "for l in lsAll:\n",
    "    print(l,end=\" \")"
   ]
  },
  {
   "cell_type": "code",
   "execution_count": null,
   "metadata": {},
   "outputs": [],
   "source": [
    "6.苏格拉底是古希腊著名的思想家、哲学家、教育家、公民陪审员。苏格拉底的部分名言被翻译为中文，其部分内容由\n",
    "sgld.txt 给出。请参考代码模板，补充代码完成中文分词和统计“人”出现的次数。\n",
    "\n",
    "@@@@@@@@@@@@@@@@@@@@@"
   ]
  },
  {
   "cell_type": "code",
   "execution_count": 55,
   "metadata": {},
   "outputs": [
    {
     "name": "stdout",
     "output_type": "stream",
     "text": [
      "['\\ufeff许多赛跑者失败，都是失败在最后几步。', '患难及困苦，是磨炼人格的最高学府。', '对哲学家来说，死是最后的自我实现。是求之不得的事，因为它打开了通向真正知识的门。灵魂从肉体的羁绊中解脱出来，终于实现了光明的天国的视觉境界。', '世界上最快乐的事，莫过于为理想而奋斗。哲学家告诉我们，“为善至乐”的乐，乃是从道德中产生出来的。为理想而奋斗的人，必能获得这种快乐，因为理想的本质就含有道德的价值。', '有理智的教育和培养能带来益处，而失去理智将带来危害。', '我与世界相遇，我自与世界相蚀，我自不辱使命，使我与众生相聚。', '做少许事情而做得很好，胜于做许多事情而做得很糟。', '快乐的秘密并不在于寻求更多想要的，而是在于培养清心寡欲的能力。', 'The secret of happiness， you see， is not found in seeking more， but in developing the capacity to enjoy less.', '对作家来说，写得少是这样的有害，就跟医生缺乏诊病的机会一样。', '我认为闲暇是所有财富中最美好的财富。', '未经思索的生活是不值得过的。', '你是为了吃饭而生存，还是为了生存而吃饭呢?', '我去死，你们去活，究竟谁过得更幸福，唯有神知道。或我去死，你们去活，谁的去路好，唯有神知道。', '我的母亲是个助产婆，我要追随她的脚步，我是个精神上的助产士，帮助别人产生他们自己的思想。', '凡是原本可以做得更好的，也算是懒!', '如果把世上每一个人的痛苦放在一起，再让你去选择，你可能还是愿意选择自己原来的那一份。', '在死亡的门前，我们要思量的不是生命的空虚，而是它的重要性。', '清闲是一切财富中最难得的。', 'Other men live to eat，while I eat to live.', '最热烈的恋爱，会有最冷漠的结局。', '思想应当诞生在学生的心里，教师仅仅应当像助产士那样办事。', '我到处走动，没有做别的，只是要求你们，不分老少，不要只顾你们的肉体，而要保护你们的灵魂。', '好的婚姻仅给你带来幸福，不好的婚姻则可使你成为一位哲学家。', '未经审视的人生不值得度过。', 'The unexamined life is not worth living.', '爱情犹如麦地里采麦穗，弄不好就会空手而归。', '许多赛跑的失败，都是失败在最后的几步。路“应跑的路”已经不容易，“跑到尽头”当然更困难。', '最有希望的成功者，并不是才干出众的人，而是那些善于利用每一时机去发掘开拓的人。', '人类的幸福和欢乐在于奋斗，而最有价值的是为理想而奋斗。', '逆境是人类获得知识的最高学府，难题是人们取得智慧之门。', '教育不是灌输，而是点燃火焰。', '不懂得工作真义的人，视工作为苦役。', '真理有三部分：考查，即求取它;认识，即它已存在;信心，即运用它。', '父子兄弟间相爱，本出于天性，而要讲究利害，就失去了家庭的温暖。夫妇结合，本出于情爱，而要以经济为条件，就失去了相爱的本意。', '田野与树木没有给我一点教益，而城市的人们却赐给我颇多的教益。', '好习惯是一个人在社会交场中所能穿着的最佳服饰。', '人有两耳双目，只有一舌，因此应多听多看少说。', '分手后我选择死去，你们可以继续活着，我们之间到底谁过的更幸福，这个答案唯有神知道。', '在这个世界上，除了阳光、空气、水和笑容，我们还需要什么呢!', '世上只有一样东西是珍宝，那就是知识，世上只有一样东西是罪恶，那就是无知。']\n"
     ]
    }
   ],
   "source": [
    "import jieba\n",
    "with open(r\"F:\\二级考试python\\05操作题\\6\\sgld.txt\", \"r\", encoding=\"utf-8\") as f:\n",
    "    file = f.readlines()\n",
    "line = [line.strip() for line in file]\n",
    "print(line)\n",
    "# wordlist = list(jieba.cut(line))\n",
    "# print(wordlist)s"
   ]
  },
  {
   "cell_type": "code",
   "execution_count": null,
   "metadata": {},
   "outputs": [],
   "source": []
  }
 ],
 "metadata": {
  "kernelspec": {
   "display_name": "Python 3",
   "language": "python",
   "name": "python3"
  },
  "language_info": {
   "codemirror_mode": {
    "name": "ipython",
    "version": 3
   },
   "file_extension": ".py",
   "mimetype": "text/x-python",
   "name": "python",
   "nbconvert_exporter": "python",
   "pygments_lexer": "ipython3",
   "version": "3.6.5"
  }
 },
 "nbformat": 4,
 "nbformat_minor": 2
}
