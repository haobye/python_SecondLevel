{
 "cells": [
  {
   "cell_type": "code",
   "execution_count": 5,
   "metadata": {},
   "outputs": [],
   "source": [
    "# 操作题1"
   ]
  },
  {
   "cell_type": "code",
   "execution_count": null,
   "metadata": {},
   "outputs": [],
   "source": [
    "# 1.仅使用 Python 基本语法，即不使用任何模块，编写 Python 程序\n",
    "# 计算下列数学表达式的结果并输出，小数点后保留3位。"
   ]
  },
  {
   "cell_type": "code",
   "execution_count": 12,
   "metadata": {
    "collapsed": true
   },
   "outputs": [
    {
     "name": "stdout",
     "output_type": "stream",
     "text": [
      "418.29430428826066\n",
      "418.294\n"
     ]
    }
   ],
   "source": [
    "x = pow((3 ** 4 + 5 * (6 ** 7)) / 8, 0.5)\n",
    "print(x)\n",
    "print(\"{:.3f}\".format(x))\n"
   ]
  },
  {
   "cell_type": "code",
   "execution_count": null,
   "metadata": {},
   "outputs": [],
   "source": [
    "# pow()方法返回x的y次方的值。\n",
    "#\n",
    "# math模块中pow()方法的语法：\n",
    "# \t\timport math\n",
    "# \t\tmath.pow(x,y)\n",
    "# \n",
    "# \t内置的pow()方法：\n",
    "# \t\tpow(x,y[,z])\n",
    "# \t\t计算x的y次方，如果z存在则对结果取模，\n",
    "# \t\t等效于\"pow(x,y)%z\"\n",
    "# \n",
    "# \t补充：\n",
    "# \t\t取根即为它的二分之一次方,即0.5次方。"
   ]
  },
  {
   "cell_type": "code",
   "execution_count": null,
   "metadata": {},
   "outputs": [],
   "source": [
    "# 2.以中国共产党第十九次全国代表大会报告中一句话作为字符串变量 s，\n",
    "# 完善 Python 程序，分别用 Python 内置函数及 jieba 库中已有函数计算\n",
    "# 字符串 s 的中文字符个数及中文词语个数。注意，中文字符包含中文标点符号。"
   ]
  },
  {
   "cell_type": "code",
   "execution_count": 16,
   "metadata": {
    "collapsed": true
   },
   "outputs": [
    {
     "ename": "ModuleNotFoundError",
     "evalue": "No module named 'jieba'",
     "output_type": "error",
     "traceback": [
      "\u001b[1;31m---------------------------------------------------------------------------\u001b[0m",
      "\u001b[1;31mModuleNotFoundError\u001b[0m                       Traceback (most recent call last)",
      "\u001b[1;32m<ipython-input-16-ceb3d7ae743c>\u001b[0m in \u001b[0;36m<module>\u001b[1;34m()\u001b[0m\n\u001b[1;32m----> 1\u001b[1;33m \u001b[1;32mimport\u001b[0m \u001b[0mjieba\u001b[0m\u001b[1;33m\u001b[0m\u001b[0m\n\u001b[0m\u001b[0;32m      2\u001b[0m \u001b[0ms\u001b[0m \u001b[1;33m=\u001b[0m \u001b[1;34m\"中国特色社会主义进入新时代，我国社会主要矛盾已经转化为人民日益增长的美好生活需要和不平衡不充分的发展之间的矛盾。\"\u001b[0m\u001b[1;33m\u001b[0m\u001b[0m\n\u001b[0;32m      3\u001b[0m \u001b[0mn\u001b[0m \u001b[1;33m=\u001b[0m \u001b[0mlen\u001b[0m\u001b[1;33m(\u001b[0m\u001b[0ms\u001b[0m\u001b[1;33m)\u001b[0m\u001b[1;33m\u001b[0m\u001b[0m\n\u001b[0;32m      4\u001b[0m \u001b[0mm\u001b[0m \u001b[1;33m=\u001b[0m \u001b[0mlen\u001b[0m\u001b[1;33m(\u001b[0m\u001b[0mjieba\u001b[0m\u001b[1;33m.\u001b[0m\u001b[0mlcut\u001b[0m\u001b[1;33m(\u001b[0m\u001b[0ms\u001b[0m\u001b[1;33m)\u001b[0m\u001b[1;33m)\u001b[0m\u001b[1;33m\u001b[0m\u001b[0m\n\u001b[0;32m      5\u001b[0m \u001b[0mprint\u001b[0m\u001b[1;33m(\u001b[0m\u001b[1;34m\"中文字符数为{}，中文词语数为{}。\"\u001b[0m\u001b[1;33m.\u001b[0m\u001b[0mformat\u001b[0m\u001b[1;33m(\u001b[0m\u001b[0mn\u001b[0m\u001b[1;33m,\u001b[0m \u001b[0mm\u001b[0m\u001b[1;33m)\u001b[0m\u001b[1;33m)\u001b[0m\u001b[1;33m\u001b[0m\u001b[0m\n",
      "\u001b[1;31mModuleNotFoundError\u001b[0m: No module named 'jieba'"
     ]
    }
   ],
   "source": [
    "import jieba\n",
    "s = \"中国特色社会主义进入新时代，我国社会主要矛盾已经转化为人民日益增长 \\\n",
    "    的美好生活需要和不平衡不充分的发展之间的矛盾。\"\n",
    "n = len(s)\n",
    "m = len(jieba.lcut(s))\n",
    "print(\"中文字符数为{}，中文词语数为{}。\".format(n, m))"
   ]
  },
  {
   "cell_type": "code",
   "execution_count": 18,
   "metadata": {
    "collapsed": true
   },
   "outputs": [
    {
     "name": "stderr",
     "output_type": "stream",
     "text": [
      "Building prefix dict from the default dictionary ...\n",
      "Dumping model to file cache C:\\Users\\ADMINI~1\\AppData\\Local\\Temp\\jieba.cache\n",
      "Loading model cost 5.596 seconds.\n",
      "Prefix dict has been built succesfully.\n"
     ]
    },
    {
     "name": "stdout",
     "output_type": "stream",
     "text": [
      "4\n",
      "好好学习/，/天天向上/。\n",
      "好好/好好学/好好学习/好学/学习///天天/天天向上/向上//\n",
      "好好/好学/学习/好好学/好好学习/，/天天/向上/天天向上/。\n"
     ]
    }
   ],
   "source": [
    "import jieba\n",
    "str = \"好好学习，天天向上。\"\n",
    "print(len(jieba.lcut(str)))\n",
    "print(\"/\".join(jieba.lcut(str)))    #精简模式，返回一个列表类型的结果\n",
    "print(\"/\".join(jieba.lcut(str, cut_all=True)))    #全模式，需要指定\n",
    "print(\"/\".join(jieba.lcut_for_search(str)))    #搜索引擎模式\n",
    "# 4\n",
    "# 好好学习/，/天天向上/。\n",
    "# 好好/好好学/好好学习/好学/学习///天天/天天向上/向上//\n",
    "# 好好/好学/学习/好好学/好好学习/，/天天/向上/天天向上/。"
   ]
  },
  {
   "cell_type": "code",
   "execution_count": 17,
   "metadata": {},
   "outputs": [],
   "source": [
    "3.“0x4DC0”是一个十六进制数，它对应的 Unicode 编码是中国古老的《易经》\n",
    "六十四卦的第一卦，请输出第 51 卦（震卦）对应的 Unicode 编码的二进制、\n",
    "十进制、八进制和十六进制格式。"
   ]
  },
  {
   "cell_type": "code",
   "execution_count": 1,
   "metadata": {},
   "outputs": [
    {
     "name": "stdout",
     "output_type": "stream",
     "text": [
      "二进制100110111110010、八进制46762、十进制19954、十六进制4df2\n"
     ]
    }
   ],
   "source": [
    "print(\"二进制{0:b}、八进制{0:o}、十进制{0}、十六进制{0:x}\".format(0x4DC0+50))"
   ]
  },
  {
   "cell_type": "code",
   "execution_count": 4,
   "metadata": {
    "collapsed": true
   },
   "outputs": [
    {
     "name": "stdout",
     "output_type": "stream",
     "text": [
      "输入数字：5\n",
      "十进制为： 5\n",
      "转换二进制为： 0b101\n",
      "转换八进制为： 0o5\n",
      "转换十六进制为： 0x5\n"
     ]
    }
   ],
   "source": [
    "# 解析十进制转二进制、八进制、十六进制\n",
    "num = int(input(\"输入数字：\"))\n",
    "print(\"十进制为：\", num)\n",
    "print(\"转换二进制为：\", bin(num))\n",
    "print(\"转换八进制为：\", oct(num))\n",
    "print(\"转换十六进制为：\", hex(num))"
   ]
  },
  {
   "cell_type": "code",
   "execution_count": 6,
   "metadata": {},
   "outputs": [],
   "source": [
    "# 4.使用 turtle 库的 turtle.fd() 函数和 turtle.seth() 函数\n",
    "# 绘制一个边长为 200 的正方形，效果如下图所示。"
   ]
  },
  {
   "cell_type": "code",
   "execution_count": 1,
   "metadata": {},
   "outputs": [],
   "source": [
    "import turtle\n",
    "d = 0\n",
    "for i in range(4):\n",
    "    turtle.fd(200)\n",
    "    d = d + 90\n",
    "    turtle.seth(d)"
   ]
  },
  {
   "cell_type": "code",
   "execution_count": 1,
   "metadata": {},
   "outputs": [],
   "source": [
    "# 解析：\n",
    "# turtle.seth() 固定方向\n",
    "# turtle.left() 向左转\n",
    "# turtle.right() 向右转"
   ]
  },
  {
   "cell_type": "code",
   "execution_count": null,
   "metadata": {},
   "outputs": [],
   "source": [
    "# 5.列表 ls 中存储了我国 39 所 985 高校所对应的学校类型，请以这个列表\n",
    "# 为数据变量，完善 Python 代码，统计输出各类型的数量。"
   ]
  },
  {
   "cell_type": "code",
   "execution_count": 3,
   "metadata": {},
   "outputs": [],
   "source": [
    "ls = [\"综合\", \"理工\", \"综合\", \"综合\", \"综合\", \"综合\", \"综合\", \"综合\", \"综合\", \"综合\",\\\n",
    "      \"师范\", \"理工\", \"综合\", \"理工\", \"综合\", \"综合\", \"综合\", \"综合\", \"综合\",\"理工\",\\\n",
    "      \"理工\", \"理工\", \"理工\", \"师范\", \"综合\", \"农林\", \"理工\", \"综合\", \"理工\", \"理工\", \\\n",
    "      \"理工\", \"综合\", \"理工\", \"综合\", \"综合\", \"理工\", \"农林\", \"民族\", \"军事\"]"
   ]
  },
  {
   "cell_type": "code",
   "execution_count": 10,
   "metadata": {
    "collapsed": true
   },
   "outputs": [
    {
     "name": "stdout",
     "output_type": "stream",
     "text": [
      "综合:20\n",
      "理工:13\n",
      "师范:2\n",
      "农林:2\n",
      "民族:1\n",
      "军事:1\n"
     ]
    }
   ],
   "source": [
    "dic = {}\n",
    "for type in ls:\n",
    "    dic[type] = dic.get(type, 0) + 1\n",
    "#     print(dic)\n",
    "    \n",
    "for key in dic:\n",
    "    print(\"{}:{}\".format(key, dic[key]))"
   ]
  },
  {
   "cell_type": "code",
   "execution_count": 11,
   "metadata": {},
   "outputs": [],
   "source": [
    "# 6.《论语》\n",
    "# \n",
    "# 问题1：请编写程序，提取《论语》文档中所有原文内容，输出保存到“论语-提\n",
    "# 取版.txt”文件。输出文件格式要求：去掉文章中原文部分每行行首空格及如\n",
    "# “1.11”等的数字标志，行尾无空格、无空行。参考格式如下（原文中括号及内\n",
    "# 部数字是对应源文件中注释项的标记）："
   ]
  },
  {
   "cell_type": "code",
   "execution_count": 6,
   "metadata": {},
   "outputs": [],
   "source": [
    "oldfile = open(\"H:/二级/05操作题/1/论语-网络版节选.txt\", \"r\", encoding=\"utf-8\")\n",
    "newfile = open(\"H:/二级/05操作题/1/论语-提取版节选.txt\", \"w\", encoding=\"utf-8\")\n",
    "flag = False\n",
    "\n",
    "for line in oldfile:\n",
    "    if \"【\" in line:\n",
    "        flag = False\n",
    "    if \"【原文】\" in line:\n",
    "        flag = True\n",
    "        continue\n",
    "    if flag == True:\n",
    "        for i in range(0, 25):\n",
    "            for j in range(0, 25):\n",
    "                line = line.replace(\"{}.{}\".format(i,j), \"**\")\n",
    "        for i in range(0, 10):\n",
    "            line = line.replace(\"*{}\".format(i), \"\")\n",
    "        for i in range(0, 10):\n",
    "            line = line.replace(\"{}*\".format(i), \"\")\n",
    "        line = line.replace(\"*\", \"\")\n",
    "        newfile.write(line)\n",
    "oldfile.close()\n",
    "newfile.close()    "
   ]
  },
  {
   "cell_type": "code",
   "execution_count": 7,
   "metadata": {},
   "outputs": [],
   "source": [
    "# 6.《论语》\n",
    "# \n",
    "# 问题2：请编写程序，在“论语-提取版.txt”基础上，进一步去掉每行文字中所有\n",
    "# 括号及其内部数字，保存为“论文-原文.txt”文件。"
   ]
  },
  {
   "cell_type": "code",
   "execution_count": 8,
   "metadata": {},
   "outputs": [],
   "source": [
    "oldfile = open(\"H:/二级/05操作题/1/论语-提取版节选.txt\", \"r\", encoding=\"utf-8\")\n",
    "newfile = open(\"H:/二级/05操作题/1/论语-原文节选.txt\", \"w\", encoding=\"utf-8\")\n",
    "for line in oldfile:\n",
    "    for i in range(1,23):\n",
    "        line = line.replace(\"({})\".format(i), \"\")\n",
    "    newfile.write(line)\n",
    "oldfile.close()\n",
    "newfile.close()"
   ]
  },
  {
   "cell_type": "code",
   "execution_count": null,
   "metadata": {},
   "outputs": [],
   "source": []
  }
 ],
 "metadata": {
  "kernelspec": {
   "display_name": "Python 3",
   "language": "python",
   "name": "python3"
  },
  "language_info": {
   "codemirror_mode": {
    "name": "ipython",
    "version": 3
   },
   "file_extension": ".py",
   "mimetype": "text/x-python",
   "name": "python",
   "nbconvert_exporter": "python",
   "pygments_lexer": "ipython3",
   "version": "3.7.0"
  }
 },
 "nbformat": 4,
 "nbformat_minor": 2
}
