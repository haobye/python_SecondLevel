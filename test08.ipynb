{
 "cells": [
  {
   "cell_type": "code",
   "execution_count": null,
   "metadata": {},
   "outputs": [],
   "source": [
    "# 1.从键盘输入一个人的身高和体重的数字，以英文逗号隔开，在屏幕上显示输出这个人的身体质\n",
    "# 量指数（BMI），BMI 的计算公式是 BMI = 体重（kg）/ 身高2（m2）。"
   ]
  },
  {
   "cell_type": "code",
   "execution_count": null,
   "metadata": {},
   "outputs": [],
   "source": [
    "h,t = eval(input(\"请输入升高和体重并用英文逗号隔开：\"))\n",
    "print(\"您的BMI为{:.1f}\".format(t/(h**2)))"
   ]
  },
  {
   "cell_type": "code",
   "execution_count": null,
   "metadata": {},
   "outputs": [],
   "source": [
    "# 2.从键盘输入一个由 1 和 0 组成的二进制字符串 s，转换为十进制数输出显示在屏幕上"
   ]
  },
  {
   "cell_type": "code",
   "execution_count": null,
   "metadata": {},
   "outputs": [],
   "source": [
    "s = input(\"请输入：\")\n",
    "result = 0\n",
    "base = 1\n",
    "new_s = list(s)\n",
    "new_s.reverse()   #直接将列表逆序排列，不要是使用sort，那是正序或者倒序\n",
    "print(\"sort:\",new_s)\n",
    "for num in new_s:\n",
    "#     print(\"num\",num)\n",
    "    result = result + (base * int(num))\n",
    "#     print(\"base\",base)\n",
    "    base = base * 2\n",
    "print(\"转换为十进制是：{}\".format(result))"
   ]
  },
  {
   "cell_type": "markdown",
   "metadata": {},
   "source": []
  },
  {
   "cell_type": "code",
   "execution_count": null,
   "metadata": {},
   "outputs": [],
   "source": [
    "s = input() # 请输入一个由1和0组成的二进制数字串：\n",
    "d = 0\n",
    "while s:\n",
    "    d = d*2 + (ord(s[0]) -ord('0'))\n",
    "    print(\"d\",d)\n",
    "    print(\"s\",s)\n",
    "    s = s[1:]\n",
    "    print(\"s[]\",s)\n",
    "    print(\"*********\")\n",
    "print(\"转换成十进制数是：{}\".format(d))"
   ]
  },
  {
   "cell_type": "code",
   "execution_count": null,
   "metadata": {},
   "outputs": [],
   "source": [
    "s = \"1101\"\n",
    "print(ord('1'))  # 返回对应十进制整数\n",
    "print(ord('0'))"
   ]
  },
  {
   "cell_type": "code",
   "execution_count": null,
   "metadata": {},
   "outputs": [],
   "source": [
    "# 3.计算两个向量的内积。从键盘接收一个整数 n，作为一维向量的长度；然后输入 n 个整数，以\n",
    "# 英文逗号隔开，存成一个向量 x，然后再接收另 n 个整数，以逗号隔开，存成另一个向量 y，\n",
    "# 然后计算两个向量对应元素的乘积的和。在屏幕上输出结果。"
   ]
  },
  {
   "cell_type": "code",
   "execution_count": null,
   "metadata": {},
   "outputs": [],
   "source": [
    "n = input(\"输入一维向量的长度：\")    # 这个是用来下面每个向量有几个元素的\n",
    "list_x = input(\"输入{}个向量x：\".format(n)).split(\",\")\n",
    "list_y = input(\"输入{}个向量y：\".format(n)).split(\",\")\n",
    "result = list(zip(list_x,list_y))\n",
    "product = 0\n",
    "# result = [('8', '4'), ('9', '5')]\n",
    "for tup in result:\n",
    "    product += int(tup[0])*int(tup[1])\n",
    "print(\"两个向量对应元素的乘积的和为:{}\".format(product))"
   ]
  },
  {
   "cell_type": "code",
   "execution_count": null,
   "metadata": {},
   "outputs": [],
   "source": [
    "# # result = 0\n",
    "# n = eval(input()) # \"请输入向量的长度n：\"\n",
    "# xin = input().split(',') # \"请输入向量x的{}个整数，以英文逗号分隔：\".format(n)\n",
    "# yin = input().split(',') # \"请输入向量y的{}个整数，以英文逗号分隔：\".format(n)sum = 0\n",
    "# for i in range(n):\n",
    "#     sum += int(xin[i]) * int(yin[i])\n",
    "# print(\"x和y的内积是：\", sum)"
   ]
  },
  {
   "cell_type": "code",
   "execution_count": null,
   "metadata": {},
   "outputs": [],
   "source": [
    "# 4.使用 turtle 库的 turtle.circle() 函数和 turtle.seth() 函数绘制套圈，最小的圆圈\n",
    "# 半径为 10 像素，不同圆圈之间的半径差是 40 像素。"
   ]
  },
  {
   "cell_type": "code",
   "execution_count": 1,
   "metadata": {},
   "outputs": [],
   "source": [
    "import turtle\n",
    "r = 10\n",
    "head = 90\n",
    "for i in range(4):\n",
    "    turtle.seth(head)\n",
    "    turtle.circle(r)\n",
    "    r += 40\n",
    "turtle.done()"
   ]
  },
  {
   "cell_type": "code",
   "execution_count": null,
   "metadata": {},
   "outputs": [],
   "source": [
    "# 5.从键盘输入一个中文字符串变量 s，内部包含中文逗号和句号。\n",
    "# 问题1：（8分）计算字符串 s 中的中文字符个数，不包括中文逗号和句号字符。示例如下：\n",
    "# 输入：没有人不爱惜他的生命，但很少人珍视他的时间。\n",
    "# 输出：中文字符数为20。"
   ]
  },
  {
   "cell_type": "code",
   "execution_count": 3,
   "metadata": {},
   "outputs": [
    {
     "name": "stdout",
     "output_type": "stream",
     "text": [
      "请输入：你好，我的王\n",
      "5\n"
     ]
    }
   ],
   "source": [
    "word = input(\"请输入：\")\n",
    "word = word.replace(\"，\",\"\").replace(\"。\",\"\")\n",
    "print(\"中文字符数为:{}\".format(len(word)))"
   ]
  },
  {
   "cell_type": "code",
   "execution_count": null,
   "metadata": {},
   "outputs": [],
   "source": [
    "# 6.问题2：（7分）用 jieba 分词后，显示分词的结果，用”/”分隔。并显示输出分词后的\n",
    "# 中文词语的个数，不包含逗号和句号。示例如下：\n",
    "# 输入：没有人不爱惜他的生命，但很少人珍视他的时间。\n",
    "# 输出：没有/ 人/ 不/ 爱惜/ 他/ 的/ 生命/ 但/ 很少/ 人/ 珍视/ 他/ 的/ 时间/\n",
    "# 中文词语数为14"
   ]
  },
  {
   "cell_type": "code",
   "execution_count": 9,
   "metadata": {},
   "outputs": [
    {
     "name": "stdout",
     "output_type": "stream",
     "text": [
      "请输入：没有人不爱惜他的生命，但很少人珍视他的时间。\n",
      "没有/人/不/爱惜/他/的/生命/但/很少/人/珍视/他/的/时间/\n",
      "中文词语数为：14\n",
      "中文字符数为：20\n"
     ]
    }
   ],
   "source": [
    "import jieba\n",
    "item = input(\"请输入：\")\n",
    "word = item.replace(\"，\",\"\").replace(\"。\",\"\")\n",
    "# print(len(word))\n",
    "end = jieba.lcut(word)\n",
    "for item in end:\n",
    "    print(item, end=\"/\")\n",
    "print(\"\\n中文词语数为：{}\".format(len(end)))\n",
    "print(\"中文字符数为：{}\".format(len(word)))"
   ]
  },
  {
   "cell_type": "code",
   "execution_count": null,
   "metadata": {},
   "outputs": [],
   "source": [
    "# 7.使用字典和列表型变量完成学生通讯录管理，名单由考生目录下文件 address.txt 给出，每行\n",
    "# 是一个学生的信息。示例如下：\n",
    "# 学号,姓名,电话号码,地址\n",
    "# 101,aa,12345678,Beijing\n",
    "# 102,bb,23456781,shanghai\n",
    "\n",
    "# 问题1：参照代码模板完善代码，实现下述功能。在屏幕上显示功能菜单，功能菜单示例如下：\n",
    "# 1.显示所有信息\n",
    "# 2.追加信息\n",
    "# 3.删除信息\n",
    "# 请输入数字1-3选择功能：\n",
    "# 接收用户输入数字选择功能，如果输入错误，要求用户重新输入。如果输入正确，在屏幕上显示\n",
    "# 提示语句：您选择了功能1/2/3. \n",
    "\n",
    "# 8.问题2：在问题1的代码基础上完善代码，实现下述功能。实现功能1——当用户选择1的时候，\n",
    "# 从通讯录文件读取信息，显示所有信息。（5分）\n",
    "# 示例如下：\n",
    "# 1.显示所有信息\n",
    "# 2.追加信息\n",
    "# 3.删除信息\n",
    "# 请输入数字1-3选择功能：1\n",
    "# 101,aa,12345678,Beijing\n",
    "# 102,bb,23456781,shanghai\n",
    "\n",
    "# 9.问题3：在问题2的代码基础上完善代码，实现下述功能。实现功能2——追加信息。\n",
    "# 让用户从键盘输入一个学生的信息，用逗号隔开。在屏幕上显示追加后的所有信息，\n",
    "# 并将信息写入文件 new_address.txt 中，文件格式与 address 相同。（10分）\n",
    "# New_address.txtd内容示例如下：\n",
    "# 101,aa,12345678,Beijing\n",
    "# 102,bb,23456781,shanghai"
   ]
  },
  {
   "cell_type": "code",
   "execution_count": null,
   "metadata": {},
   "outputs": [],
   "source": [
    "import re\n",
    "\n",
    "def mode_one():\n",
    "    with open(\"F:/二级考试python/05操作题/8/address.txt\", \"r\", encoding=\"utf-8\") as f:\n",
    "        file = f.readlines()\n",
    "    for line in file:\n",
    "        print(line)\n",
    "\n",
    "def mode_two():\n",
    "    data = input(\"请输入追加的信息(学号,姓名,电话号码,地址)：\")\n",
    "    with open(\"F:/二级考试python/05操作题/8/new_address.txt\", \"a\", encoding=\"utf-8\") as f:\n",
    "        f.write(data)\n",
    "    print(\"追加成功\")\n",
    "    \n",
    "def mode_three():\n",
    "    pass\n",
    "#     data = input(\"请输入要删除的信息：\")\n",
    "#     print(type(data))\n",
    "#     with open(\"F:/二级考试python/05操作题/8/new_address.txt\", \"a\", encoding=\"utf-8\") as f:\n",
    "#         f.write(re.sub(str(data),\"\"))\n",
    "#     print(\"删除成功\")\n",
    "    \n",
    "def change_mode():\n",
    "    print(\"1.显示所有信息\")\n",
    "    print(\"2.追加信息\")\n",
    "    print(\"3.删除信息\")\n",
    "    print(\"4.退出程序\")\n",
    "    while(True):\n",
    "        num = eval(input(\"请输入数字1-4选择功能：\"))\n",
    "        if(num==1):\n",
    "            mode_one()\n",
    "        elif(num==2):\n",
    "            mode_two()\n",
    "        elif(num==3):\n",
    "            mode_three()\n",
    "        elif(num==4):\n",
    "            print(\"退出\")\n",
    "            break;\n",
    "        else:\n",
    "            print(\"暂无此功能！\")\n",
    "            \n",
    "change_mode()"
   ]
  }
 ],
 "metadata": {
  "kernelspec": {
   "display_name": "Python 3",
   "language": "python",
   "name": "python3"
  },
  "language_info": {
   "codemirror_mode": {
    "name": "ipython",
    "version": 3
   },
   "file_extension": ".py",
   "mimetype": "text/x-python",
   "name": "python",
   "nbconvert_exporter": "python",
   "pygments_lexer": "ipython3",
   "version": "3.6.5"
  }
 },
 "nbformat": 4,
 "nbformat_minor": 2
}
