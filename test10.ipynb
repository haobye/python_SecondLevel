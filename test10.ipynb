{
 "cells": [
  {
   "cell_type": "code",
   "execution_count": null,
   "metadata": {},
   "outputs": [],
   "source": [
    "# 1.输入一个字符串，其中的字符由（英文）逗号隔开，编程将所有字符连成一个字符串，输出显示在屏幕上。"
   ]
  },
  {
   "cell_type": "code",
   "execution_count": null,
   "metadata": {},
   "outputs": [],
   "source": [
    "word = input(\"请输入:\").replace(\",\",\"\")\n",
    "print(word)"
   ]
  },
  {
   "cell_type": "code",
   "execution_count": null,
   "metadata": {},
   "outputs": [],
   "source": [
    "word = input(\"请输入:\").split(\",\")\n",
    "print(\"\".join(word))"
   ]
  },
  {
   "cell_type": "code",
   "execution_count": null,
   "metadata": {},
   "outputs": [],
   "source": [
    "# 2.有一个列表 studs 如下：\n",
    "# studs= [{'sid':'103','Chinese': 90,'Math':95,'English':92},\n",
    "#         {'sid':'101','Chinese': 80,'Math':85,'English':82},\n",
    "#         {'sid':'102','Chinese': 70,'Math':75,'English':72}]\n",
    "# 将列表 studs 的数据内容提取出来，放到一个字典 scores 里，在屏幕上按学号从小到大的顺序\n",
    "# 显示输出 scores 的内容。内容示例如下：\n",
    "# 101:[85, 82, 80]\n",
    "# 102:[75, 72, 70]\n",
    "# 103:[95, 92, 90]"
   ]
  },
  {
   "cell_type": "code",
   "execution_count": null,
   "metadata": {},
   "outputs": [],
   "source": [
    "studs= [{'sid':'103','Chinese': 90,'Math':95,'English':92},\n",
    "        {'sid':'101','Chinese': 80,'Math':85,'English':82},\n",
    "        {'sid':'102','Chinese': 70,'Math':75,'English':72}]\n",
    "\n",
    "dic = {}\n",
    "for items in studs:\n",
    "    lis = []\n",
    "    sid = items['sid']\n",
    "    lis.append(items['Chinese'])\n",
    "    lis.append(items['Math'])\n",
    "    lis.append(items['English'])\n",
    "    lis.sort()\n",
    "    dic[sid] = dic.get(sid, lis)\n",
    "    \n",
    "for item in dic:\n",
    "    print(item,\":\",dic[item])"
   ]
  },
  {
   "cell_type": "code",
   "execution_count": null,
   "metadata": {},
   "outputs": [],
   "source": [
    "# 3.从键盘输入一个用于填充的图符，一个字符串，一个要显示的字符串的总长度；编程将输入的字\n",
    "# 符串，居中输出显示在屏幕上，用填充图符补齐到输入的总长度。如果总长度处输入的不是正整数，\n",
    "# 则提示请输入一个正整数，并重新提示输入，直至输入正整数。"
   ]
  },
  {
   "cell_type": "code",
   "execution_count": null,
   "metadata": {},
   "outputs": [],
   "source": [
    "a = input(\"请输入填充符号：\")\n",
    "b = input(\"请输入要显示的字符串：\")\n",
    "while(True):\n",
    "    n = eval(input(\"请输入字符串总长度：\"))\n",
    "    if n>=0 and type(n)==int:\n",
    "        num = int((n-len(b)) / 2)\n",
    "        print(\"num:\",num)\n",
    "        if num == 0:\n",
    "            print(b)\n",
    "        else:\n",
    "            print(num*a, b, (num+1)*a)\n",
    "        break\n",
    "    else:\n",
    "        print(\"请输入一个正整数\")\n",
    "        continue"
   ]
  },
  {
   "cell_type": "code",
   "execution_count": null,
   "metadata": {},
   "outputs": [],
   "source": [
    "a = input()  # 请输入填充符号\n",
    "c = input()  # 请输入要显示的字符串\n",
    "flag = 1\n",
    "while flag:\n",
    "    try:\n",
    "        b = eval(input()) # 请输入字符串总长度\n",
    "    except:\n",
    "        flag = 1\n",
    "        print(\"请输入一个正整数\")\n",
    "    else:\n",
    "        if type(b)== int and b>0:\n",
    "            flag = 0\n",
    "        else:\n",
    "            flag = 1\n",
    "            print(\"请输入一个正整数\")\n",
    "print('{0:{1}^{2}}'.format(c,a,b))\n",
    "print(\"{0:{1}^{2}}\".format(\"qq\",\"$\", 4))"
   ]
  },
  {
   "cell_type": "code",
   "execution_count": null,
   "metadata": {},
   "outputs": [],
   "source": [
    "# 4.使用 turtle 库的 turtle.fd() 函数和 turtle.seth() 函数绘制螺旋状的正方形，正方形边长\n",
    "# 从 1 像素开始，第一条边从 0 度方向开始"
   ]
  },
  {
   "cell_type": "code",
   "execution_count": 74,
   "metadata": {},
   "outputs": [],
   "source": [
    "import turtle\n",
    "d = 0   # 第一条边从0度方向开始\n",
    "k = 1   # 正方形边长从1像素开始\n",
    "for j in range(10):\n",
    "    for i in range(4):\n",
    "        turtle.fd(k)\n",
    "        d += 91\n",
    "        turtle.seth(d)\n",
    "        k += 2\n",
    "turtle.done()"
   ]
  },
  {
   "cell_type": "code",
   "execution_count": null,
   "metadata": {},
   "outputs": [],
   "source": [
    "# 5.附件文件 question.txt 中有一道 Python 选择题，第 1 行的第 1 个数据为题号，\n",
    "# 后续的 4 行是 4 个选项。读取其中的内容，提取题干和四个选项的内容，利用 jieba 分词并\n",
    "# 统计出现频率最高的 3 个词，其中要删除以下的常用字和符号“的 ，:：可以是和中以下B”，\n",
    "# 作为该题目的主题标签，显示输出在屏幕上。"
   ]
  },
  {
   "cell_type": "code",
   "execution_count": 31,
   "metadata": {},
   "outputs": [
    {
     "name": "stdout",
     "output_type": "stream",
     "text": [
      "第3题的主题是：\n",
      "字典 : 6\n",
      "类型 : 5\n",
      "关于 : 1\n"
     ]
    }
   ],
   "source": [
    "import jieba\n",
    "\n",
    "delete = \"的 ，:：可以是和中以下B.\\n3\"\n",
    "string = \"\"\n",
    "with open(\"F:/二级考试python/05操作题/10/question.txt\",\"r\",encoding=\"utf-8\") as f:\n",
    "    file = f.readlines()\n",
    "for line in file:\n",
    "    string += \"\".join(line)\n",
    "    \n",
    "dic = {}    \n",
    "num = 0\n",
    "words = jieba.lcut(string)\n",
    "for word in words:\n",
    "    try:\n",
    "        num = eval(word)\n",
    "    except:\n",
    "        pass\n",
    "    if word not in delete:\n",
    "        dic[word] = dic.get(word, 0)+1\n",
    "\n",
    "print(\"第{}题的主题是：\".format(num))\n",
    "lis = sorted(dic.items(), key=lambda x:x[1], reverse=True) \n",
    "for tup in lis[:3]:\n",
    "    print(tup[0], \":\", tup[1])\n",
    "\n",
    "# lis = list(dic.items())    \n",
    "# lis.sort(key=lambda x:x[1], reverse=True)        \n",
    "# for i in lis:\n",
    "#     print(i)"
   ]
  },
  {
   "cell_type": "code",
   "execution_count": null,
   "metadata": {},
   "outputs": [],
   "source": [
    "# import jieba\n",
    "# fi = open(\"F:/二级考试python/05操作题/10/question.txt\",\"r\", encoding=\"utf-8\")\n",
    "# con = ''\n",
    "# num = 0\n",
    "# for l in fi:\n",
    "#     l=l.replace('\\n','').strip().split('.')\n",
    "#     # print(l)\n",
    "#     try:\n",
    "#         ft = eval(l[0])\n",
    "#     except:\n",
    "#         pass\n",
    "#     else:\n",
    "#         num = ft\n",
    "#     con += l[1]\n",
    "# print('第{}题的主题是：'.format(num))\n",
    "# conls = jieba.lcut(con)\n",
    "# dict = {}\n",
    "# for word in conls:\n",
    "#     dict[word] = dict.get(word, 0) + 1\n",
    "# dictls = list(dict.items())\n",
    "# dictls.sort(key = lambda x:x[1], reverse = True)\n",
    "# k = 0\n",
    "# for it in dictls:\n",
    "#     if it[0] in '的 ，:：可以是和中以下B':\n",
    "#         continue\n",
    "#     else:\n",
    "#         if k == 3:\n",
    "#             break\n",
    "#         else:\n",
    "#             print('{}:{}'.format(it[0],it[1]))\n",
    "#             k += 1\n",
    "# fi.close()"
   ]
  },
  {
   "cell_type": "code",
   "execution_count": null,
   "metadata": {},
   "outputs": [],
   "source": [
    "# 6.老王的血压有些高，医生让家属给老王测血压。老王的女儿记录了一段时间的血压测量值，\n",
    "# 在文件 xueyajilu.txt 中，内容示例如下：\n",
    "# 2018/7/2 6:00,140,82,136,90,69\n",
    "# 2018/7/2 15:28,154,88,155,85,63\n",
    "# 文件内各部分含义如下：测量时间,左臂高压,左臂低压,右臂高压,右臂低压,心率"
   ]
  },
  {
   "cell_type": "code",
   "execution_count": null,
   "metadata": {},
   "outputs": [],
   "source": [
    "# （1）使用字典和列表类型进行数据分析，获取老王的\n",
    "# 左臂和右臂的血压平均值\n",
    "# 左臂和右臂的高压最高值、低压最高值\n",
    "# 左臂和右臂的高/低压差平均值\n",
    "# 心率的平均值\n",
    "# 给出左臂和右臂血压情况的对比表，输出到屏幕上，请注意每行三列对齐"
   ]
  },
  {
   "cell_type": "code",
   "execution_count": 89,
   "metadata": {},
   "outputs": [
    {
     "name": "stdout",
     "output_type": "stream",
     "text": [
      "对比值           左臂    右臂        \n",
      "高压最大值        168    155       \n",
      "低压最大值         93    90        \n",
      "压差平均值         62    60        \n",
      "高压平均值        147    141       \n",
      "低压平均值         85    81        \n"
     ]
    }
   ],
   "source": [
    "fi = open(\"F:/二级考试python/05操作题/10/xueyajilu.txt\",\"r\",encoding=\"utf-8\")\n",
    "zg = []\n",
    "zd = []\n",
    "z_gap = []\n",
    "yg = []\n",
    "yd = []\n",
    "y_gap = []\n",
    "heart = []\n",
    "for line in fi:\n",
    "    line = line.replace(\"\\n\", \"\").strip().split(\",\")\n",
    "    zg.append(eval(line[1]))\n",
    "    zd.append(eval(line[2]))\n",
    "    yg.append(eval(line[3]))\n",
    "    yd.append(eval(line[4]))\n",
    "    heart.append(eval(line[5]))\n",
    "z_list = list(zip(zg,zd))\n",
    "for tup in z_list:\n",
    "    tup = tup[0]-tup[1] if tup[0]>tup[1] else tup[1]-tup[0]\n",
    "    z_gap.append(tup)\n",
    "y_list = list(zip(yg,yd))\n",
    "for tup in y_list:\n",
    "    tup = tup[0]-tup[1] if tup[0]>tup[1] else tup[1]-tup[0]\n",
    "    y_gap.append(tup) \n",
    "\n",
    "res = []\n",
    "res.append(list((\"对比值\", \"左臂\", \"右臂\")))\n",
    "res.append(list((\"高压最大值\", max(zg), max(yg))))\n",
    "res.append(list((\"低压最大值\", max(zd), max(yd))))\n",
    "res.append(list((\"压差平均值\", sum(z_gap)//len(z_gap), sum(y_gap)//len(y_gap))))\n",
    "res.append(list((\"高压平均值\", sum(zg)//len(zg), sum(yg)//len(yg))))\n",
    "res.append(list((\"低压平均值\", sum(zd)//len(zd), sum(yd)//len(yd))))\n",
    "for line in res:\n",
    "    print(\"{:<10}{:^10}{:<10}\".format(line[0],line[1],line[2]))"
   ]
  },
  {
   "cell_type": "code",
   "execution_count": null,
   "metadata": {},
   "outputs": [],
   "source": [
    "# （2）上述显示的五个项目，如果左臂有大于 50% 的项目高于右臂，则输出“结论：左臂血压偏高”；如果等于 50% 的项目高于右臂，则输出“结论：左臂血压与右臂血压相当”；\n",
    "# 如果小于 50% 的项目高于右臂，则输出“结论：右臂血压偏高”。\n",
    "# 结论：左臂血压偏高, 心率的平均值为66(注意：此处为格式示例，实际数据与此不同）"
   ]
  },
  {
   "cell_type": "code",
   "execution_count": 94,
   "metadata": {},
   "outputs": [
    {
     "name": "stdout",
     "output_type": "stream",
     "text": [
      "结论：左臂血压偏高，心率的平均值为 63\n"
     ]
    }
   ],
   "source": [
    "big_num = 0\n",
    "for tup in res:\n",
    "    if tup[1] > tup[2]:\n",
    "        big_num += 1\n",
    "if big_num > (5*0.5):\n",
    "    print(\"结论：左臂血压偏高\", end=\"\")\n",
    "else:\n",
    "    print(\"结论：右臂臂血压偏高\", end=\"\")\n",
    "# print(\"，心率的平均值为 %.0f\" % (sum(heart)/len(heart)))\n",
    "print(\"，心率的平均值为\", sum(heart)//len(heart))"
   ]
  },
  {
   "cell_type": "code",
   "execution_count": 88,
   "metadata": {},
   "outputs": [
    {
     "name": "stdout",
     "output_type": "stream",
     "text": [
      "对比项       左臂        右臂        \n",
      "高压最大值     168       155       \n",
      "低压最大值     93        90        \n",
      "压差平均值     62        60        \n",
      "高压平均值     147       141       \n",
      "低压平均值     85        81        \n",
      "结论：左臂血压偏高, 心率的平均值为63\n"
     ]
    }
   ],
   "source": [
    "# fi = open(\"F:/二级考试python/05操作题/10/xueyajilu.txt\",\"r\",encoding=\"utf-8\")\n",
    "# jl = [[],[],[],[],[]]   # 1:zb_h, zb_l,yb_h,yb_l\n",
    "# zyc = []\n",
    "# yyc = []\n",
    "# xl  = []\n",
    "# for l in fi:\n",
    "#     lls=l.replace('\\n','').strip().split(',')\n",
    "#     for i in range(1,5):\n",
    "#         jl[i].append(eval(lls[i]))\n",
    "#     zyc.append(eval(lls[1])-eval(lls[2]))\n",
    "#     yyc.append(eval(lls[3])-eval(lls[4]))\n",
    "#     xl.append(eval(lls[5]))\n",
    "# fi.close()\n",
    "\n",
    "# cnt = len(xl)\n",
    "# res = []\n",
    "# res.append(list((\"高压最大值\",max(jl[1]),max(jl[3]))))\n",
    "# res.append(list((\"低压最大值\",max(jl[2]),max(jl[4]))))\n",
    "# res.append(list((\"压差平均值\",sum(zyc)//cnt,sum(yyc)//cnt)))\n",
    "# res.append(list((\"高压平均值\",sum(jl[1])//cnt,sum(jl[3])//cnt)))\n",
    "# res.append(list((\"低压平均值\",sum(jl[2])//cnt,sum(jl[4])//cnt)))\n",
    "# res.append(list((\"心率平均值\",sum(xl)//cnt,0)))\n",
    "\n",
    "# zbg = 0\n",
    "# ybg = 0\n",
    "# print('{:<10}{:<10}{:<10}'.format(\"对比项\", \"左臂\", \"右臂\"))\n",
    "# for r in range(len(res)-1):\n",
    "#     print('{:<10}{:<10}{:<10}'.format(res[r][0],res[r][1],res[r][2]))\n",
    "#     if res[r][1]> res[r][2]:\n",
    "#         zbg += 1\n",
    "#     else:\n",
    "#         ybg += 1\n",
    "# if zbg > ybg:\n",
    "#     print('结论：左臂血压偏高',end ='')\n",
    "# elif zbg == ybg:\n",
    "#     print('结论：左臂血压与右臂血压相当',end ='')\n",
    "# else:\n",
    "#     print('结论：右臂血压偏高',end ='')\n",
    "# print(', 心率的平均值为{}'.format(res[5][1]))"
   ]
  },
  {
   "cell_type": "code",
   "execution_count": null,
   "metadata": {},
   "outputs": [],
   "source": []
  }
 ],
 "metadata": {
  "kernelspec": {
   "display_name": "Python 3",
   "language": "python",
   "name": "python3"
  },
  "language_info": {
   "codemirror_mode": {
    "name": "ipython",
    "version": 3
   },
   "file_extension": ".py",
   "mimetype": "text/x-python",
   "name": "python",
   "nbconvert_exporter": "python",
   "pygments_lexer": "ipython3",
   "version": "3.6.5"
  }
 },
 "nbformat": 4,
 "nbformat_minor": 2
}
